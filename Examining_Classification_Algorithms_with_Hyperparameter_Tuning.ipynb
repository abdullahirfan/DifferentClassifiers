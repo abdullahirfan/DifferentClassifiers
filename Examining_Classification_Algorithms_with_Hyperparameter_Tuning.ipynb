{
  "nbformat": 4,
  "nbformat_minor": 0,
  "metadata": {
    "colab": {
      "name": "Examining Classification Algorithms with Hyperparameter Tuning",
      "version": "0.3.2",
      "provenance": [],
      "collapsed_sections": [
        "ERnXwT6CGY80",
        "69-eGpWCGY9B",
        "IG_hMjkHGY9Z",
        "P6rMhZscGY9u",
        "oakBq51QGY9-",
        "slV_ZiqiGY-S",
        "HG3IuH9MGY-T",
        "eqtzCGyVGY-p",
        "Rrpsm7_aGY-q",
        "MEHTopTiGY-r",
        "Mxmk3ButGY_I",
        "0rFG-A-QGY_M",
        "vhBCe4O4GY_P",
        "C0_X5_TVGY_b",
        "XGCkfueNGY_k",
        "m4-pmF3_GY_v"
      ],
      "include_colab_link": true
    },
    "kernelspec": {
      "display_name": "Python 3",
      "language": "python",
      "name": "python3"
    }
  },
  "cells": [
    {
      "cell_type": "markdown",
      "metadata": {
        "id": "view-in-github",
        "colab_type": "text"
      },
      "source": [
        "<a href=\"https://colab.research.google.com/github/abdullahirfan/DifferentClassifiers/blob/master/Examining_Classification_Algorithms_with_Hyperparameter_Tuning.ipynb\" target=\"_parent\"><img src=\"https://colab.research.google.com/assets/colab-badge.svg\" alt=\"Open In Colab\"/></a>"
      ]
    },
    {
      "metadata": {
        "id": "PeDRcS_xGY71",
        "colab_type": "code",
        "colab": {}
      },
      "cell_type": "code",
      "source": [
        "import numpy as np\n",
        "import pandas as pd\n",
        "import matplotlib.pyplot as plt\n",
        "from sklearn import preprocessing\n",
        "from scipy import stats\n",
        "import seaborn as sns\n",
        "from IPython.display import display\n",
        "from IPython.core.interactiveshell import InteractiveShell\n",
        "import numpy as np\n",
        "InteractiveShell.ast_node_interactivity = \"all\"\n",
        "%matplotlib inline\n",
        "import time\n",
        "import io"
      ],
      "execution_count": 0,
      "outputs": []
    },
    {
      "metadata": {
        "id": "EH-oayUzGf6u",
        "colab_type": "code",
        "colab": {
          "resources": {
            "http://localhost:8080/nbextensions/google.colab/files.js": {
              "data": "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",
              "ok": true,
              "headers": [
                [
                  "content-type",
                  "application/javascript"
                ]
              ],
              "status": 200,
              "status_text": ""
            }
          },
          "base_uri": "https://localhost:8080/",
          "height": 74
        },
        "outputId": "3f12407a-97e4-4a98-ad54-567b87631525"
      },
      "cell_type": "code",
      "source": [
        "from google.colab import files\n",
        "uploaded = files.upload()"
      ],
      "execution_count": 1,
      "outputs": [
        {
          "output_type": "display_data",
          "data": {
            "text/html": [
              "\n",
              "     <input type=\"file\" id=\"files-dfc39bfe-4efd-4740-a0fb-3f7f653c2bfc\" name=\"files[]\" multiple disabled />\n",
              "     <output id=\"result-dfc39bfe-4efd-4740-a0fb-3f7f653c2bfc\">\n",
              "      Upload widget is only available when the cell has been executed in the\n",
              "      current browser session. Please rerun this cell to enable.\n",
              "      </output>\n",
              "      <script src=\"/nbextensions/google.colab/files.js\"></script> "
            ],
            "text/plain": [
              "<IPython.core.display.HTML object>"
            ]
          },
          "metadata": {
            "tags": []
          }
        },
        {
          "output_type": "stream",
          "text": [
            "Saving DataDNA.csv to DataDNA (1).csv\n"
          ],
          "name": "stdout"
        }
      ]
    },
    {
      "metadata": {
        "id": "aHN_s0EjGY77",
        "colab_type": "code",
        "colab": {}
      },
      "cell_type": "code",
      "source": [
        "dfb = pd.read_csv(io.BytesIO(uploaded['DataDNA.csv']))"
      ],
      "execution_count": 0,
      "outputs": []
    },
    {
      "metadata": {
        "id": "DKj7KGoiGY7_",
        "colab_type": "code",
        "colab": {},
        "outputId": "4faffae0-e088-434e-8761-335958f7aaeb"
      },
      "cell_type": "code",
      "source": [
        "dfb.head()\n",
        "dfb.shape"
      ],
      "execution_count": 0,
      "outputs": [
        {
          "output_type": "execute_result",
          "data": {
            "text/html": [
              "<div>\n",
              "<style scoped>\n",
              "    .dataframe tbody tr th:only-of-type {\n",
              "        vertical-align: middle;\n",
              "    }\n",
              "\n",
              "    .dataframe tbody tr th {\n",
              "        vertical-align: top;\n",
              "    }\n",
              "\n",
              "    .dataframe thead th {\n",
              "        text-align: right;\n",
              "    }\n",
              "</style>\n",
              "<table border=\"1\" class=\"dataframe\">\n",
              "  <thead>\n",
              "    <tr style=\"text-align: right;\">\n",
              "      <th></th>\n",
              "      <th>fe1</th>\n",
              "      <th>fe2</th>\n",
              "      <th>fe3</th>\n",
              "      <th>fe4</th>\n",
              "      <th>fe5</th>\n",
              "      <th>fe6</th>\n",
              "      <th>fe7</th>\n",
              "      <th>fe8</th>\n",
              "      <th>fe9</th>\n",
              "      <th>fe10</th>\n",
              "      <th>...</th>\n",
              "      <th>fe49</th>\n",
              "      <th>fe50</th>\n",
              "      <th>fe51</th>\n",
              "      <th>fe52</th>\n",
              "      <th>fe53</th>\n",
              "      <th>fe54</th>\n",
              "      <th>fe55</th>\n",
              "      <th>fe56</th>\n",
              "      <th>fe57</th>\n",
              "      <th>outcome</th>\n",
              "    </tr>\n",
              "  </thead>\n",
              "  <tbody>\n",
              "    <tr>\n",
              "      <th>0</th>\n",
              "      <td>1</td>\n",
              "      <td>2</td>\n",
              "      <td>1</td>\n",
              "      <td>2</td>\n",
              "      <td>1</td>\n",
              "      <td>2</td>\n",
              "      <td>3</td>\n",
              "      <td>3</td>\n",
              "      <td>3</td>\n",
              "      <td>3</td>\n",
              "      <td>...</td>\n",
              "      <td>3</td>\n",
              "      <td>2</td>\n",
              "      <td>3</td>\n",
              "      <td>4</td>\n",
              "      <td>2</td>\n",
              "      <td>2</td>\n",
              "      <td>2</td>\n",
              "      <td>2</td>\n",
              "      <td>1</td>\n",
              "      <td>1</td>\n",
              "    </tr>\n",
              "    <tr>\n",
              "      <th>1</th>\n",
              "      <td>3</td>\n",
              "      <td>3</td>\n",
              "      <td>4</td>\n",
              "      <td>2</td>\n",
              "      <td>1</td>\n",
              "      <td>2</td>\n",
              "      <td>2</td>\n",
              "      <td>4</td>\n",
              "      <td>3</td>\n",
              "      <td>2</td>\n",
              "      <td>...</td>\n",
              "      <td>1</td>\n",
              "      <td>4</td>\n",
              "      <td>3</td>\n",
              "      <td>4</td>\n",
              "      <td>4</td>\n",
              "      <td>4</td>\n",
              "      <td>1</td>\n",
              "      <td>3</td>\n",
              "      <td>4</td>\n",
              "      <td>1</td>\n",
              "    </tr>\n",
              "    <tr>\n",
              "      <th>2</th>\n",
              "      <td>4</td>\n",
              "      <td>1</td>\n",
              "      <td>4</td>\n",
              "      <td>4</td>\n",
              "      <td>4</td>\n",
              "      <td>4</td>\n",
              "      <td>1</td>\n",
              "      <td>1</td>\n",
              "      <td>2</td>\n",
              "      <td>1</td>\n",
              "      <td>...</td>\n",
              "      <td>1</td>\n",
              "      <td>2</td>\n",
              "      <td>1</td>\n",
              "      <td>1</td>\n",
              "      <td>4</td>\n",
              "      <td>2</td>\n",
              "      <td>2</td>\n",
              "      <td>4</td>\n",
              "      <td>4</td>\n",
              "      <td>1</td>\n",
              "    </tr>\n",
              "    <tr>\n",
              "      <th>3</th>\n",
              "      <td>1</td>\n",
              "      <td>4</td>\n",
              "      <td>1</td>\n",
              "      <td>1</td>\n",
              "      <td>3</td>\n",
              "      <td>3</td>\n",
              "      <td>4</td>\n",
              "      <td>4</td>\n",
              "      <td>3</td>\n",
              "      <td>4</td>\n",
              "      <td>...</td>\n",
              "      <td>1</td>\n",
              "      <td>3</td>\n",
              "      <td>3</td>\n",
              "      <td>4</td>\n",
              "      <td>1</td>\n",
              "      <td>3</td>\n",
              "      <td>3</td>\n",
              "      <td>4</td>\n",
              "      <td>2</td>\n",
              "      <td>-1</td>\n",
              "    </tr>\n",
              "    <tr>\n",
              "      <th>4</th>\n",
              "      <td>3</td>\n",
              "      <td>4</td>\n",
              "      <td>4</td>\n",
              "      <td>3</td>\n",
              "      <td>1</td>\n",
              "      <td>1</td>\n",
              "      <td>4</td>\n",
              "      <td>4</td>\n",
              "      <td>4</td>\n",
              "      <td>1</td>\n",
              "      <td>...</td>\n",
              "      <td>3</td>\n",
              "      <td>1</td>\n",
              "      <td>3</td>\n",
              "      <td>2</td>\n",
              "      <td>1</td>\n",
              "      <td>4</td>\n",
              "      <td>2</td>\n",
              "      <td>1</td>\n",
              "      <td>1</td>\n",
              "      <td>-1</td>\n",
              "    </tr>\n",
              "  </tbody>\n",
              "</table>\n",
              "<p>5 rows × 58 columns</p>\n",
              "</div>"
            ],
            "text/plain": [
              "   fe1  fe2  fe3  fe4  fe5  fe6  fe7  fe8  fe9  fe10   ...     fe49  fe50  \\\n",
              "0    1    2    1    2    1    2    3    3    3     3   ...        3     2   \n",
              "1    3    3    4    2    1    2    2    4    3     2   ...        1     4   \n",
              "2    4    1    4    4    4    4    1    1    2     1   ...        1     2   \n",
              "3    1    4    1    1    3    3    4    4    3     4   ...        1     3   \n",
              "4    3    4    4    3    1    1    4    4    4     1   ...        3     1   \n",
              "\n",
              "   fe51  fe52  fe53  fe54  fe55  fe56  fe57  outcome  \n",
              "0     3     4     2     2     2     2     1        1  \n",
              "1     3     4     4     4     1     3     4        1  \n",
              "2     1     1     4     2     2     4     4        1  \n",
              "3     3     4     1     3     3     4     2       -1  \n",
              "4     3     2     1     4     2     1     1       -1  \n",
              "\n",
              "[5 rows x 58 columns]"
            ]
          },
          "metadata": {
            "tags": []
          },
          "execution_count": 3
        },
        {
          "output_type": "execute_result",
          "data": {
            "text/plain": [
              "(2200, 58)"
            ]
          },
          "metadata": {
            "tags": []
          },
          "execution_count": 3
        }
      ]
    },
    {
      "metadata": {
        "id": "-5pfYjiyGY8G",
        "colab_type": "text"
      },
      "cell_type": "markdown",
      "source": [
        "# Checking Class Variation"
      ]
    },
    {
      "metadata": {
        "id": "qUqAMrh0GY8I",
        "colab_type": "code",
        "colab": {},
        "outputId": "dfc12eef-b40e-4ba1-aa5d-8e746e223874"
      },
      "cell_type": "code",
      "source": [
        "n=len(dfb)\n",
        "surv_0=len(dfb[dfb['outcome']==-1])\n",
        "surv_1=len(dfb[dfb['outcome']==1])\n",
        "\n",
        "print(\"% of passanger with outcome 1 in train dataset: \",surv_1*100/n)\n",
        "print(\"% of passanger with outcome -1 in train dataset: \",surv_0*100/n)\n",
        "\n",
        "\n",
        "fig , ax = plt.subplots(figsize=(12,8))\n",
        "sns.countplot(x='outcome', data=dfb)\n",
        "plt.title(\"Count of Outcome\")\n",
        "plt.show()"
      ],
      "execution_count": 0,
      "outputs": [
        {
          "output_type": "stream",
          "text": [
            "% of passanger with outcome 1 in train dataset:  51.68181818181818\n",
            "% of passanger with outcome -1 in train dataset:  48.31818181818182\n"
          ],
          "name": "stdout"
        },
        {
          "output_type": "execute_result",
          "data": {
            "text/plain": [
              "<matplotlib.axes._subplots.AxesSubplot at 0x26b5f247be0>"
            ]
          },
          "metadata": {
            "tags": []
          },
          "execution_count": 4
        },
        {
          "output_type": "execute_result",
          "data": {
            "text/plain": [
              "Text(0.5,1,'Count of Outcome')"
            ]
          },
          "metadata": {
            "tags": []
          },
          "execution_count": 4
        },
        {
          "output_type": "display_data",
          "data": {
            "image/png": "[encoded data removed]",
            "text/plain": [
              "<matplotlib.figure.Figure at 0x26b57d3feb8>"
            ]
          },
          "metadata": {
            "tags": []
          }
        }
      ]
    },
    {
      "metadata": {
        "id": "P8s1614uGY8N",
        "colab_type": "text"
      },
      "cell_type": "markdown",
      "source": [
        "# Checking correlation "
      ]
    },
    {
      "metadata": {
        "id": "BHWxBb-XGY8O",
        "colab_type": "code",
        "colab": {}
      },
      "cell_type": "code",
      "source": [
        "cor=dfb.corr()"
      ],
      "execution_count": 0,
      "outputs": []
    },
    {
      "metadata": {
        "id": "WnAlWpkzGY8S",
        "colab_type": "code",
        "colab": {},
        "outputId": "8bef24e9-ff20-4695-b222-f0096b98a452"
      },
      "cell_type": "code",
      "source": [
        "fig, ax =plt.subplots(figsize=(24, 18))\n",
        "plt.title(\"Correlation Plot\")\n",
        "sns.heatmap(cor, mask=np.zeros_like(cor, dtype=np.bool), cmap=sns.diverging_palette(220, 10, as_cmap=True),\n",
        "            square=True, ax=ax)\n",
        "plt.show()"
      ],
      "execution_count": 0,
      "outputs": [
        {
          "output_type": "execute_result",
          "data": {
            "text/plain": [
              "Text(0.5,1,'Correlation Plot')"
            ]
          },
          "metadata": {
            "tags": []
          },
          "execution_count": 6
        },
        {
          "output_type": "execute_result",
          "data": {
            "text/plain": [
              "<matplotlib.axes._subplots.AxesSubplot at 0x26b5f2470b8>"
            ]
          },
          "metadata": {
            "tags": []
          },
          "execution_count": 6
        },
        {
          "output_type": "display_data",
          "data": {
            "image/png": "[encoded data removed]",
            "text/plain": [
              "<matplotlib.figure.Figure at 0x26b5f222cc0>"
            ]
          },
          "metadata": {
            "tags": []
          }
        }
      ]
    },
    {
      "metadata": {
        "id": "Dgarkue-GY8X",
        "colab_type": "text"
      },
      "cell_type": "markdown",
      "source": [
        "# Normalizing fe1-fe57"
      ]
    },
    {
      "metadata": {
        "id": "InpHylX7GY8Z",
        "colab_type": "code",
        "colab": {},
        "outputId": "3e026189-0bc1-492b-d8bd-13e33b5d1c5f"
      },
      "cell_type": "code",
      "source": [
        "z_normalized = stats.zscore(dfb.iloc[:,0:57])\n",
        "df = pd.DataFrame(z_normalized)\n",
        "df.shape\n",
        "df.head(5)"
      ],
      "execution_count": 0,
      "outputs": [
        {
          "output_type": "execute_result",
          "data": {
            "text/plain": [
              "(2200, 57)"
            ]
          },
          "metadata": {
            "tags": []
          },
          "execution_count": 7
        },
        {
          "output_type": "execute_result",
          "data": {
            "text/html": [
              "<div>\n",
              "<style scoped>\n",
              "    .dataframe tbody tr th:only-of-type {\n",
              "        vertical-align: middle;\n",
              "    }\n",
              "\n",
              "    .dataframe tbody tr th {\n",
              "        vertical-align: top;\n",
              "    }\n",
              "\n",
              "    .dataframe thead th {\n",
              "        text-align: right;\n",
              "    }\n",
              "</style>\n",
              "<table border=\"1\" class=\"dataframe\">\n",
              "  <thead>\n",
              "    <tr style=\"text-align: right;\">\n",
              "      <th></th>\n",
              "      <th>0</th>\n",
              "      <th>1</th>\n",
              "      <th>2</th>\n",
              "      <th>3</th>\n",
              "      <th>4</th>\n",
              "      <th>5</th>\n",
              "      <th>6</th>\n",
              "      <th>7</th>\n",
              "      <th>8</th>\n",
              "      <th>9</th>\n",
              "      <th>...</th>\n",
              "      <th>47</th>\n",
              "      <th>48</th>\n",
              "      <th>49</th>\n",
              "      <th>50</th>\n",
              "      <th>51</th>\n",
              "      <th>52</th>\n",
              "      <th>53</th>\n",
              "      <th>54</th>\n",
              "      <th>55</th>\n",
              "      <th>56</th>\n",
              "    </tr>\n",
              "  </thead>\n",
              "  <tbody>\n",
              "    <tr>\n",
              "      <th>0</th>\n",
              "      <td>-1.352898</td>\n",
              "      <td>-0.487479</td>\n",
              "      <td>-1.372441</td>\n",
              "      <td>-0.470994</td>\n",
              "      <td>-1.431156</td>\n",
              "      <td>-0.448281</td>\n",
              "      <td>0.405564</td>\n",
              "      <td>0.415676</td>\n",
              "      <td>0.396645</td>\n",
              "      <td>0.392611</td>\n",
              "      <td>...</td>\n",
              "      <td>1.424712</td>\n",
              "      <td>0.453914</td>\n",
              "      <td>-0.464630</td>\n",
              "      <td>0.513026</td>\n",
              "      <td>1.383572</td>\n",
              "      <td>-0.452656</td>\n",
              "      <td>-0.400135</td>\n",
              "      <td>-0.458416</td>\n",
              "      <td>-0.417566</td>\n",
              "      <td>-1.392249</td>\n",
              "    </tr>\n",
              "    <tr>\n",
              "      <th>1</th>\n",
              "      <td>0.459203</td>\n",
              "      <td>0.433082</td>\n",
              "      <td>1.360021</td>\n",
              "      <td>-0.470994</td>\n",
              "      <td>-1.431156</td>\n",
              "      <td>-0.448281</td>\n",
              "      <td>-0.495689</td>\n",
              "      <td>1.322008</td>\n",
              "      <td>0.396645</td>\n",
              "      <td>-0.509943</td>\n",
              "      <td>...</td>\n",
              "      <td>0.490475</td>\n",
              "      <td>-1.356803</td>\n",
              "      <td>1.404083</td>\n",
              "      <td>0.513026</td>\n",
              "      <td>1.383572</td>\n",
              "      <td>1.424521</td>\n",
              "      <td>1.435731</td>\n",
              "      <td>-1.374415</td>\n",
              "      <td>0.497419</td>\n",
              "      <td>1.369651</td>\n",
              "    </tr>\n",
              "    <tr>\n",
              "      <th>2</th>\n",
              "      <td>1.365253</td>\n",
              "      <td>-1.408039</td>\n",
              "      <td>1.360021</td>\n",
              "      <td>1.317075</td>\n",
              "      <td>1.342890</td>\n",
              "      <td>1.371309</td>\n",
              "      <td>-1.396943</td>\n",
              "      <td>-1.396986</td>\n",
              "      <td>-0.491065</td>\n",
              "      <td>-1.412496</td>\n",
              "      <td>...</td>\n",
              "      <td>-1.378000</td>\n",
              "      <td>-1.356803</td>\n",
              "      <td>-0.464630</td>\n",
              "      <td>-1.316240</td>\n",
              "      <td>-1.376046</td>\n",
              "      <td>1.424521</td>\n",
              "      <td>-0.400135</td>\n",
              "      <td>-0.458416</td>\n",
              "      <td>1.412405</td>\n",
              "      <td>1.369651</td>\n",
              "    </tr>\n",
              "    <tr>\n",
              "      <th>3</th>\n",
              "      <td>-1.352898</td>\n",
              "      <td>1.353642</td>\n",
              "      <td>-1.372441</td>\n",
              "      <td>-1.365028</td>\n",
              "      <td>0.418208</td>\n",
              "      <td>0.461514</td>\n",
              "      <td>1.306817</td>\n",
              "      <td>1.322008</td>\n",
              "      <td>0.396645</td>\n",
              "      <td>1.295164</td>\n",
              "      <td>...</td>\n",
              "      <td>-0.443763</td>\n",
              "      <td>-1.356803</td>\n",
              "      <td>0.469726</td>\n",
              "      <td>0.513026</td>\n",
              "      <td>1.383572</td>\n",
              "      <td>-1.391244</td>\n",
              "      <td>0.517798</td>\n",
              "      <td>0.457583</td>\n",
              "      <td>1.412405</td>\n",
              "      <td>-0.471615</td>\n",
              "    </tr>\n",
              "    <tr>\n",
              "      <th>4</th>\n",
              "      <td>0.459203</td>\n",
              "      <td>1.353642</td>\n",
              "      <td>1.360021</td>\n",
              "      <td>0.423041</td>\n",
              "      <td>-1.431156</td>\n",
              "      <td>-1.358075</td>\n",
              "      <td>1.306817</td>\n",
              "      <td>1.322008</td>\n",
              "      <td>1.284354</td>\n",
              "      <td>-1.412496</td>\n",
              "      <td>...</td>\n",
              "      <td>1.424712</td>\n",
              "      <td>0.453914</td>\n",
              "      <td>-1.398986</td>\n",
              "      <td>0.513026</td>\n",
              "      <td>-0.456173</td>\n",
              "      <td>-1.391244</td>\n",
              "      <td>1.435731</td>\n",
              "      <td>-0.458416</td>\n",
              "      <td>-1.332552</td>\n",
              "      <td>-1.392249</td>\n",
              "    </tr>\n",
              "  </tbody>\n",
              "</table>\n",
              "<p>5 rows × 57 columns</p>\n",
              "</div>"
            ],
            "text/plain": [
              "         0         1         2         3         4         5         6   \\\n",
              "0 -1.352898 -0.487479 -1.372441 -0.470994 -1.431156 -0.448281  0.405564   \n",
              "1  0.459203  0.433082  1.360021 -0.470994 -1.431156 -0.448281 -0.495689   \n",
              "2  1.365253 -1.408039  1.360021  1.317075  1.342890  1.371309 -1.396943   \n",
              "3 -1.352898  1.353642 -1.372441 -1.365028  0.418208  0.461514  1.306817   \n",
              "4  0.459203  1.353642  1.360021  0.423041 -1.431156 -1.358075  1.306817   \n",
              "\n",
              "         7         8         9     ...           47        48        49  \\\n",
              "0  0.415676  0.396645  0.392611    ...     1.424712  0.453914 -0.464630   \n",
              "1  1.322008  0.396645 -0.509943    ...     0.490475 -1.356803  1.404083   \n",
              "2 -1.396986 -0.491065 -1.412496    ...    -1.378000 -1.356803 -0.464630   \n",
              "3  1.322008  0.396645  1.295164    ...    -0.443763 -1.356803  0.469726   \n",
              "4  1.322008  1.284354 -1.412496    ...     1.424712  0.453914 -1.398986   \n",
              "\n",
              "         50        51        52        53        54        55        56  \n",
              "0  0.513026  1.383572 -0.452656 -0.400135 -0.458416 -0.417566 -1.392249  \n",
              "1  0.513026  1.383572  1.424521  1.435731 -1.374415  0.497419  1.369651  \n",
              "2 -1.316240 -1.376046  1.424521 -0.400135 -0.458416  1.412405  1.369651  \n",
              "3  0.513026  1.383572 -1.391244  0.517798  0.457583  1.412405 -0.471615  \n",
              "4  0.513026 -0.456173 -1.391244  1.435731 -0.458416 -1.332552 -1.392249  \n",
              "\n",
              "[5 rows x 57 columns]"
            ]
          },
          "metadata": {
            "tags": []
          },
          "execution_count": 7
        }
      ]
    },
    {
      "metadata": {
        "id": "4rJ4yJ_GGY8e",
        "colab_type": "code",
        "colab": {},
        "outputId": "ef7748ed-b7f2-4f34-845b-2ecab1e8e1a3"
      },
      "cell_type": "code",
      "source": [
        "##### Use numpy to convert to arrays\n",
        "import numpy as np\n",
        "\n",
        "# Labels are the values we want to predict\n",
        "labels = np.array(dfb['outcome'])\n",
        "\n",
        "\n",
        "# Setting features (57)\n",
        "features= df\n",
        "\n",
        "# Saving feature names for later use\n",
        "feature_list = list(features.columns)\n",
        "\n",
        "# Convert to numpy array\n",
        "features = np.array(features)\n",
        "\n",
        "features.shape\n",
        "labels.shape"
      ],
      "execution_count": 0,
      "outputs": [
        {
          "output_type": "execute_result",
          "data": {
            "text/plain": [
              "(2200, 57)"
            ]
          },
          "metadata": {
            "tags": []
          },
          "execution_count": 8
        },
        {
          "output_type": "execute_result",
          "data": {
            "text/plain": [
              "(2200,)"
            ]
          },
          "metadata": {
            "tags": []
          },
          "execution_count": 8
        }
      ]
    },
    {
      "metadata": {
        "id": "m2dC8lD4GY8j",
        "colab_type": "text"
      },
      "cell_type": "markdown",
      "source": [
        "# Data Set Split 70/30 (training / test)"
      ]
    },
    {
      "metadata": {
        "id": "x3L-MdSfGY8k",
        "colab_type": "code",
        "colab": {}
      },
      "cell_type": "code",
      "source": [
        "# Using Skicit-learn to split data into training and testing sets\n",
        "from sklearn.model_selection import train_test_split\n",
        "\n",
        "# Split the data into training and testing sets\n",
        "train_features, test_features, train_labels, test_labels = train_test_split(features, labels, test_size = 0.3,\n",
        "                                                                           random_state = 42)"
      ],
      "execution_count": 0,
      "outputs": []
    },
    {
      "metadata": {
        "id": "M7ejYyNPGY8o",
        "colab_type": "code",
        "colab": {},
        "outputId": "14b7831e-875c-4d1b-9aa4-5d40b423eaae"
      },
      "cell_type": "code",
      "source": [
        "print('Training Features Shape:', train_features.shape)\n",
        "print('Training Labels Shape:', train_labels.shape)\n",
        "print('Testing Features Shape:', test_features.shape)\n",
        "print('Testing Labels Shape:', test_labels.shape)"
      ],
      "execution_count": 0,
      "outputs": [
        {
          "output_type": "stream",
          "text": [
            "Training Features Shape: (1540, 57)\n",
            "Training Labels Shape: (1540,)\n",
            "Testing Features Shape: (660, 57)\n",
            "Testing Labels Shape: (660,)\n"
          ],
          "name": "stdout"
        }
      ]
    },
    {
      "metadata": {
        "id": "BGTCgiRtGY8t",
        "colab_type": "text"
      },
      "cell_type": "markdown",
      "source": [
        "# Question 2 Part 3 Task A"
      ]
    },
    {
      "metadata": {
        "id": "69yNrqloGY8u",
        "colab_type": "text"
      },
      "cell_type": "markdown",
      "source": [
        "## Classifier 1 : KNN"
      ]
    },
    {
      "metadata": {
        "id": "x8I8UBTOGY8w",
        "colab_type": "code",
        "colab": {}
      },
      "cell_type": "code",
      "source": [
        ""
      ],
      "execution_count": 0,
      "outputs": []
    },
    {
      "metadata": {
        "id": "ERnXwT6CGY80",
        "colab_type": "text"
      },
      "cell_type": "markdown",
      "source": [
        "### Make Predictions on Test Data"
      ]
    },
    {
      "metadata": {
        "id": "1UHyWoz8GY81",
        "colab_type": "code",
        "colab": {}
      },
      "cell_type": "code",
      "source": [
        ""
      ],
      "execution_count": 0,
      "outputs": []
    },
    {
      "metadata": {
        "id": "k3UBRafdGY86",
        "colab_type": "text"
      },
      "cell_type": "markdown",
      "source": [
        "## Classifier 2 : SVM"
      ]
    },
    {
      "metadata": {
        "id": "Q4J1-BYqGY88",
        "colab_type": "code",
        "colab": {}
      },
      "cell_type": "code",
      "source": [
        ""
      ],
      "execution_count": 0,
      "outputs": []
    },
    {
      "metadata": {
        "id": "69-eGpWCGY9B",
        "colab_type": "text"
      },
      "cell_type": "markdown",
      "source": [
        "### Make Predictions on Test Data"
      ]
    },
    {
      "metadata": {
        "id": "XZcSbXT8GY9D",
        "colab_type": "code",
        "colab": {}
      },
      "cell_type": "code",
      "source": [
        ""
      ],
      "execution_count": 0,
      "outputs": []
    },
    {
      "metadata": {
        "id": "N0KqpP5JGY9I",
        "colab_type": "text"
      },
      "cell_type": "markdown",
      "source": [
        "## Classifier 3 : Training Forest"
      ]
    },
    {
      "metadata": {
        "id": "wzCzIQ7TGY9L",
        "colab_type": "code",
        "colab": {},
        "outputId": "75582c5e-1031-4592-8425-5c74ed0a4889"
      },
      "cell_type": "code",
      "source": [
        "# Import the model we are using\n",
        "from sklearn.ensemble import RandomForestClassifier\n",
        "from sklearn.model_selection import GridSearchCV\n",
        "\n",
        "# Instantiate model \n",
        "rf = RandomForestClassifier(random_state=42)\n",
        "\n",
        "param_grid = { \n",
        "    'n_estimators': [100,500],\n",
        "    'max_features': ['auto', 'sqrt', 'log2'],\n",
        "    'max_depth' : [15,20,14],\n",
        "    'criterion' :['gini', 'entropy'],\n",
        "    'bootstrap': [True,False]\n",
        "}\n",
        "\n",
        "# Train the model on training data using GridSearch\n",
        "CV_rfc = GridSearchCV(estimator=rf, param_grid=param_grid)\n",
        "CV_rfc.fit(train_features, train_labels)\n",
        "\n",
        "\n",
        "#Grid Search Best Parameters\n",
        "CV_rfc.best_params_"
      ],
      "execution_count": 0,
      "outputs": [
        {
          "output_type": "execute_result",
          "data": {
            "text/plain": [
              "GridSearchCV(cv=None, error_score='raise',\n",
              "       estimator=RandomForestClassifier(bootstrap=True, class_weight=None, criterion='gini',\n",
              "            max_depth=None, max_features='auto', max_leaf_nodes=None,\n",
              "            min_impurity_decrease=0.0, min_impurity_split=None,\n",
              "            min_samples_leaf=1, min_samples_split=2,\n",
              "            min_weight_fraction_leaf=0.0, n_estimators=10, n_jobs=1,\n",
              "            oob_score=False, random_state=42, verbose=0, warm_start=False),\n",
              "       fit_params=None, iid=True, n_jobs=1,\n",
              "       param_grid={'n_estimators': [100, 500], 'max_features': ['auto', 'sqrt', 'log2'], 'max_depth': [15, 20, 14], 'criterion': ['gini', 'entropy'], 'bootstrap': [True, False]},\n",
              "       pre_dispatch='2*n_jobs', refit=True, return_train_score='warn',\n",
              "       scoring=None, verbose=0)"
            ]
          },
          "metadata": {
            "tags": []
          },
          "execution_count": 11
        },
        {
          "output_type": "execute_result",
          "data": {
            "text/plain": [
              "{'bootstrap': False,\n",
              " 'criterion': 'gini',\n",
              " 'max_depth': 15,\n",
              " 'max_features': 'log2',\n",
              " 'n_estimators': 500}"
            ]
          },
          "metadata": {
            "tags": []
          },
          "execution_count": 11
        }
      ]
    },
    {
      "metadata": {
        "id": "RKpEfpjXGY9U",
        "colab_type": "code",
        "colab": {},
        "outputId": "caed81eb-f6c6-4227-c86a-f83f3db08d8b"
      },
      "cell_type": "code",
      "source": [
        "#Initiate the model with GridSearch Parameters\n",
        "\n",
        "rf_grid = RandomForestClassifier(n_estimators = 500, criterion = 'gini', max_depth = 15, max_features= 'log2',\n",
        "                                 bootstrap=False,random_state=43)\n",
        "\n",
        "# Train the model on training data\n",
        "start = time.time()\n",
        "rf_grid.fit(train_features, train_labels)\n",
        "end = time.time()\n",
        "\n",
        "print(\"training time:\", round(end - start, 3),\"s\") # the time would be round to 3 decimal in seconds\n"
      ],
      "execution_count": 0,
      "outputs": [
        {
          "output_type": "execute_result",
          "data": {
            "text/plain": [
              "RandomForestClassifier(bootstrap=False, class_weight=None, criterion='gini',\n",
              "            max_depth=15, max_features='log2', max_leaf_nodes=None,\n",
              "            min_impurity_decrease=0.0, min_impurity_split=None,\n",
              "            min_samples_leaf=1, min_samples_split=2,\n",
              "            min_weight_fraction_leaf=0.0, n_estimators=500, n_jobs=1,\n",
              "            oob_score=False, random_state=43, verbose=0, warm_start=False)"
            ]
          },
          "metadata": {
            "tags": []
          },
          "execution_count": 12
        },
        {
          "output_type": "stream",
          "text": [
            "training time: 1.597 s\n"
          ],
          "name": "stdout"
        }
      ]
    },
    {
      "metadata": {
        "id": "IG_hMjkHGY9Z",
        "colab_type": "text"
      },
      "cell_type": "markdown",
      "source": [
        "### Make Predictions on Test Data"
      ]
    },
    {
      "metadata": {
        "id": "fjFGKv3mGY9a",
        "colab_type": "code",
        "colab": {},
        "outputId": "ff2f2f20-5672-4c15-9156-5fc650f069f1"
      },
      "cell_type": "code",
      "source": [
        "# Use the forest's predict method on the test data\n",
        "start = time.time()\n",
        "predictions=rf_grid.predict(test_features)\n",
        "end = time.time()\n",
        "\n",
        "print(\"test time:\", round(end - start, 3),\"s\") # the time would be round to 3 decimal in seconds"
      ],
      "execution_count": 0,
      "outputs": [
        {
          "output_type": "stream",
          "text": [
            "test time: 0.115 s\n"
          ],
          "name": "stdout"
        }
      ]
    },
    {
      "metadata": {
        "id": "iOM_DxAmGY9e",
        "colab_type": "code",
        "colab": {},
        "outputId": "5c5cb2d2-6f36-4159-cde6-4aa0062f779f"
      },
      "cell_type": "code",
      "source": [
        "#Import scikit-learn metrics module for accuracy calculation\n",
        "from sklearn import metrics\n",
        "# Model Accuracy: how often is the classifier correct?\n",
        "print(\"Accuracy based on 57 Features:\",round(metrics.accuracy_score(test_labels, predictions),4))\n",
        "\n",
        "# Model Precision: what percentage of positive tuples are labeled as such?\n",
        "print(\"Precision based on 57 Features:\",round(metrics.precision_score(test_labels, predictions),3))\n",
        "\n",
        "# Model Recall: what percentage of positive tuples are labelled as such?\n",
        "print(\"Recall based on 57 Features:\",round(metrics.recall_score(test_labels, predictions),3))"
      ],
      "execution_count": 0,
      "outputs": [
        {
          "output_type": "stream",
          "text": [
            "Accuracy based on 57 Features: 0.9697\n",
            "Precision based on 57 Features: 0.978\n",
            "Recall based on 57 Features: 0.96\n"
          ],
          "name": "stdout"
        }
      ]
    },
    {
      "metadata": {
        "id": "_C8Hx9kfGY9j",
        "colab_type": "text"
      },
      "cell_type": "markdown",
      "source": [
        "## Classifier 4: Training Neural Network"
      ]
    },
    {
      "metadata": {
        "id": "LBhxkH4cGY9l",
        "colab_type": "code",
        "colab": {},
        "outputId": "74738166-530a-4334-aae6-e145beecdce5"
      },
      "cell_type": "code",
      "source": [
        "# Import the model we are using\n",
        "from sklearn import neural_network\n",
        "from sklearn.model_selection import GridSearchCV\n",
        "\n",
        "parameters = {\n",
        "    'solver': ['lbfgs'], \n",
        "    'activation' : ['identity', 'logistic', 'tanh', 'relu'],\n",
        "    'max_iter': [100,200], \n",
        "    'alpha': 10.0 ** -np.arange(1, 10), \n",
        "    'hidden_layer_sizes': (np.arange(1, 7),np.arange(1, 7),np.arange(1, 7)), \n",
        "    'random_state':[0,1,2,3,4,5,6,7,8,9]\n",
        "}\n",
        "\n",
        "# Train the model on training data using GridSearch\n",
        "clf_grid = GridSearchCV(neural_network.MLPClassifier(), parameters, n_jobs=-1)\n",
        "clf_grid.fit(train_features, train_labels)\n",
        "\n",
        "\n",
        "#Grid Search Best Parameters\n",
        "clf_grid.best_params_"
      ],
      "execution_count": 0,
      "outputs": [
        {
          "output_type": "execute_result",
          "data": {
            "text/plain": [
              "GridSearchCV(cv=None, error_score='raise',\n",
              "       estimator=MLPClassifier(activation='relu', alpha=0.0001, batch_size='auto', beta_1=0.9,\n",
              "       beta_2=0.999, early_stopping=False, epsilon=1e-08,\n",
              "       hidden_layer_sizes=(100,), learning_rate='constant',\n",
              "       learning_rate_init=0.001, max_iter=200, momentum=0.9,\n",
              "       nesterovs_momentum=True, power_t=0.5, random_state=None,\n",
              "       shuffle=True, solver='adam', tol=0.0001, validation_fraction=0.1,\n",
              "       verbose=False, warm_start=False),\n",
              "       fit_params=None, iid=True, n_jobs=-1,\n",
              "       param_grid={'solver': ['lbfgs'], 'activation': ['identity', 'logistic', 'tanh', 'relu'], 'max_iter': [100, 200], 'alpha': array([1.e-01, 1.e-02, 1.e-03, 1.e-04, 1.e-05, 1.e-06, 1.e-07, 1.e-08,\n",
              "       1.e-09]), 'hidden_layer_sizes': (array([1, 2, 3, 4, 5, 6]), array([1, 2, 3, 4, 5, 6]), array([1, 2, 3, 4, 5, 6])), 'random_state': [0, 1, 2, 3, 4, 5, 6, 7, 8, 9]},\n",
              "       pre_dispatch='2*n_jobs', refit=True, return_train_score='warn',\n",
              "       scoring=None, verbose=0)"
            ]
          },
          "metadata": {
            "tags": []
          },
          "execution_count": 40
        },
        {
          "output_type": "execute_result",
          "data": {
            "text/plain": [
              "{'activation': 'identity',\n",
              " 'alpha': 0.0001,\n",
              " 'hidden_layer_sizes': array([1, 2, 3, 4, 5, 6]),\n",
              " 'max_iter': 200,\n",
              " 'random_state': 2,\n",
              " 'solver': 'lbfgs'}"
            ]
          },
          "metadata": {
            "tags": []
          },
          "execution_count": 40
        }
      ]
    },
    {
      "metadata": {
        "id": "MUC3P4QSGY9p",
        "colab_type": "code",
        "colab": {},
        "outputId": "1da5080b-b71e-4feb-bdac-b8482a60aee7"
      },
      "cell_type": "code",
      "source": [
        "#Initiate the model with GridSearch Parameters\n",
        "start_nu = time.time()\n",
        "nu = neural_network.MLPClassifier(alpha=0.0001, hidden_layer_sizes = (np.arange(1, 6)), \n",
        "                                  max_iter=200, random_state=2, solver='lbfgs',activation='identity')\n",
        "\n",
        "# Train the model on training data\n",
        "nu.fit(train_features, train_labels)\n",
        "end_nu = time.time()\n",
        "\n",
        "print(\"train time:\", round(end_nu - start_nu, 3),\"s\") # the time would be round to 3 decimal in seconds"
      ],
      "execution_count": 0,
      "outputs": [
        {
          "output_type": "execute_result",
          "data": {
            "text/plain": [
              "MLPClassifier(activation='identity', alpha=0.0001, batch_size='auto',\n",
              "       beta_1=0.9, beta_2=0.999, early_stopping=False, epsilon=1e-08,\n",
              "       hidden_layer_sizes=array([1, 2, 3, 4, 5]), learning_rate='constant',\n",
              "       learning_rate_init=0.001, max_iter=200, momentum=0.9,\n",
              "       nesterovs_momentum=True, power_t=0.5, random_state=2, shuffle=True,\n",
              "       solver='lbfgs', tol=0.0001, validation_fraction=0.1, verbose=False,\n",
              "       warm_start=False)"
            ]
          },
          "metadata": {
            "tags": []
          },
          "execution_count": 42
        },
        {
          "output_type": "stream",
          "text": [
            "train time: 0.115 s\n"
          ],
          "name": "stdout"
        }
      ]
    },
    {
      "metadata": {
        "id": "P6rMhZscGY9u",
        "colab_type": "text"
      },
      "cell_type": "markdown",
      "source": [
        "### Testing Model on Test Data"
      ]
    },
    {
      "metadata": {
        "id": "VG11bG9uGY9v",
        "colab_type": "code",
        "colab": {},
        "outputId": "94103aae-8a05-4b8c-8630-4d79380dc41d"
      },
      "cell_type": "code",
      "source": [
        "start_nu = time.time()\n",
        "neural_predictions=0\n",
        "neural_predictions = nu.predict(test_features)\n",
        "end_nu = time.time()\n",
        "\n",
        "\n",
        "print(\"test time:\", round(end_nu - start_nu, 3),\"s\") # the time would be round to 3 decimal in seconds"
      ],
      "execution_count": 0,
      "outputs": [
        {
          "output_type": "stream",
          "text": [
            "test time: 0.001 s\n"
          ],
          "name": "stdout"
        }
      ]
    },
    {
      "metadata": {
        "id": "Ccg0Q3DZGY92",
        "colab_type": "code",
        "colab": {},
        "outputId": "e81c97bf-9b10-4581-bcec-5e281d543b18"
      },
      "cell_type": "code",
      "source": [
        "#Import scikit-learn metrics module for accuracy calculation\n",
        "from sklearn import metrics\n",
        "\n",
        "# Model Accuracy: how often is the classifier correct?\n",
        "print(\"Accuracy:\",metrics.accuracy_score(test_labels, neural_predictions))\n",
        "\n",
        "# Model Precision: what percentage of positive tuples are labeled as such?\n",
        "print(\"Precision:\",metrics.precision_score(test_labels, neural_predictions))\n",
        "\n",
        "# Model Recall: what percentage of positive tuples are labelled as such?\n",
        "print(\"Recall:\",metrics.recall_score(test_labels, neural_predictions))"
      ],
      "execution_count": 0,
      "outputs": [
        {
          "output_type": "stream",
          "text": [
            "Accuracy: 0.8424242424242424\n",
            "Precision: 0.8369230769230769\n",
            "Recall: 0.8421052631578947\n"
          ],
          "name": "stdout"
        }
      ]
    },
    {
      "metadata": {
        "id": "mzRz8lABGY97",
        "colab_type": "text"
      },
      "cell_type": "markdown",
      "source": [
        "# Question 2 Part 3 Task B"
      ]
    },
    {
      "metadata": {
        "id": "cgQswIrNGY98",
        "colab_type": "text"
      },
      "cell_type": "markdown",
      "source": [
        "## 5th Classifier (Variation of Random Forest) \n",
        "Perform a greater param grid search.\n",
        "\n",
        "Perform parameter selection on a wider range using GridSearchCV and monitor accuracy based on that, enabling boosting.\n",
        "\n",
        "I will also find out the feature importance and check accuracy just on those features performing gridsearch using those features alone."
      ]
    },
    {
      "metadata": {
        "id": "oakBq51QGY9-",
        "colab_type": "text"
      },
      "cell_type": "markdown",
      "source": [
        "### Feature Importance from Random Forest Model from Task A"
      ]
    },
    {
      "metadata": {
        "id": "rXGXKuZRGY9_",
        "colab_type": "code",
        "colab": {},
        "outputId": "5cbdc05c-da84-464c-e8f4-05fa001e4c22"
      },
      "cell_type": "code",
      "source": [
        "# Get numerical feature importances\n",
        "importances = list(rf_grid.feature_importances_)\n",
        "\n",
        "# List of tuples with variable and importance\n",
        "feature_importances = [(feature, round(importance, 2)) for feature, importance in zip(feature_list, importances)]\n",
        "\n",
        "# Sort the feature importances by most important first\n",
        "feature_importances = sorted(feature_importances, key = lambda x: x[1], reverse = True)\n",
        "\n",
        "# Print out the feature and importances \n",
        "[print('Variable: {:20} Importance: {}'.format(*pair)) for pair in feature_importances];"
      ],
      "execution_count": 0,
      "outputs": [
        {
          "output_type": "stream",
          "text": [
            "Variable:                   27 Importance: 0.14\n",
            "Variable:                   28 Importance: 0.12\n",
            "Variable:                   30 Importance: 0.08\n",
            "Variable:                   29 Importance: 0.07\n",
            "Variable:                   26 Importance: 0.04\n",
            "Variable:                   31 Importance: 0.03\n",
            "Variable:                   32 Importance: 0.03\n",
            "Variable:                   33 Importance: 0.03\n",
            "Variable:                   14 Importance: 0.02\n",
            "Variable:                   20 Importance: 0.02\n",
            "Variable:                   21 Importance: 0.02\n",
            "Variable:                   23 Importance: 0.02\n",
            "Variable:                   24 Importance: 0.02\n",
            "Variable:                    0 Importance: 0.01\n",
            "Variable:                    1 Importance: 0.01\n",
            "Variable:                    2 Importance: 0.01\n",
            "Variable:                    3 Importance: 0.01\n",
            "Variable:                    4 Importance: 0.01\n",
            "Variable:                    5 Importance: 0.01\n",
            "Variable:                    6 Importance: 0.01\n",
            "Variable:                    7 Importance: 0.01\n",
            "Variable:                    8 Importance: 0.01\n",
            "Variable:                    9 Importance: 0.01\n",
            "Variable:                   10 Importance: 0.01\n",
            "Variable:                   11 Importance: 0.01\n",
            "Variable:                   12 Importance: 0.01\n",
            "Variable:                   13 Importance: 0.01\n",
            "Variable:                   15 Importance: 0.01\n",
            "Variable:                   16 Importance: 0.01\n",
            "Variable:                   17 Importance: 0.01\n",
            "Variable:                   18 Importance: 0.01\n",
            "Variable:                   19 Importance: 0.01\n",
            "Variable:                   22 Importance: 0.01\n",
            "Variable:                   25 Importance: 0.01\n",
            "Variable:                   34 Importance: 0.01\n",
            "Variable:                   35 Importance: 0.01\n",
            "Variable:                   36 Importance: 0.01\n",
            "Variable:                   37 Importance: 0.01\n",
            "Variable:                   38 Importance: 0.01\n",
            "Variable:                   39 Importance: 0.01\n",
            "Variable:                   40 Importance: 0.01\n",
            "Variable:                   41 Importance: 0.01\n",
            "Variable:                   42 Importance: 0.01\n",
            "Variable:                   43 Importance: 0.01\n",
            "Variable:                   44 Importance: 0.01\n",
            "Variable:                   45 Importance: 0.01\n",
            "Variable:                   46 Importance: 0.01\n",
            "Variable:                   47 Importance: 0.01\n",
            "Variable:                   48 Importance: 0.01\n",
            "Variable:                   49 Importance: 0.01\n",
            "Variable:                   50 Importance: 0.01\n",
            "Variable:                   51 Importance: 0.01\n",
            "Variable:                   52 Importance: 0.01\n",
            "Variable:                   53 Importance: 0.01\n",
            "Variable:                   54 Importance: 0.01\n",
            "Variable:                   55 Importance: 0.01\n",
            "Variable:                   56 Importance: 0.01\n"
          ],
          "name": "stdout"
        }
      ]
    },
    {
      "metadata": {
        "id": "kHI8J4WFGY-E",
        "colab_type": "code",
        "colab": {},
        "outputId": "4d84691d-2154-44e1-c8cd-5f42d5c22ce7"
      },
      "cell_type": "code",
      "source": [
        "# Import matplotlib for plotting and use magic command for Jupyter Notebooks\n",
        "import matplotlib.pyplot as plt\n",
        "\n",
        "%matplotlib inline\n",
        "plt.figure(figsize=(16,12))\n",
        "\n",
        "# Set the style\n",
        "plt.style.use('fivethirtyeight')\n",
        "\n",
        "# list of x locations for plotting\n",
        "x_values = list(range(len(importances)))\n",
        "\n",
        "# Make a bar chart\n",
        "plt.bar(x_values, importances, orientation = 'vertical')\n",
        "\n",
        "# Tick labels for x axis\n",
        "plt.xticks(x_values, feature_list, rotation='vertical')\n",
        "\n",
        "# Axis labels and title\n",
        "plt.ylabel('Importance'); plt.xlabel('Variable'); plt.title('Variable Importances'); \n"
      ],
      "execution_count": 0,
      "outputs": [
        {
          "output_type": "display_data",
          "data": {
            "image/png": "[encoded data removed]",
            "text/plain": [
              "<matplotlib.figure.Figure at 0x26b5ab221d0>"
            ]
          },
          "metadata": {
            "tags": []
          }
        }
      ]
    },
    {
      "metadata": {
        "id": "PrwsAp7DGY-M",
        "colab_type": "code",
        "colab": {},
        "outputId": "1cc2d1cf-c180-4c01-bc3e-b19854055e31"
      },
      "cell_type": "code",
      "source": [
        "# New random forest with only the 11 most important variables using Parameters from Previous Part 3 A.\n",
        "rf_most_important = RandomForestClassifier(random_state=43,n_estimators = 1000, criterion = 'gini', max_depth = 15, max_features= 'log2',bootstrap=False)\n",
        "\n",
        "# Extract the  most important features\n",
        "important_indices = [feature_list.index(27), feature_list.index(28),feature_list.index(30),feature_list.index(29),\n",
        "                    feature_list.index(26),feature_list.index(31),feature_list.index(32),feature_list.index(33),\n",
        "                    feature_list.index(21),feature_list.index(23),feature_list.index(24)\n",
        "                    ]\n",
        "train_important = train_features[:, important_indices]\n",
        "test_important = test_features[:, important_indices]\n",
        "important_indices\n",
        "test_features[:, important_indices]\n",
        "\n",
        "# Train the random forest\n",
        "rf_most_important.fit(train_important, train_labels)\n",
        "\n",
        "\n",
        "# Make predictions and determine the error\n",
        "prediction_imp = rf_most_important.predict(test_important)\n",
        "\n",
        "\n",
        "#Import scikit-learn metrics module for accuracy calculation\n",
        "from sklearn import metrics\n",
        "\n",
        "# Model Accuracy: how often is the classifier correct?\n",
        "print(\"Accuracy based on Task 3 A Model using 11 Important Features:\",round(metrics.accuracy_score(test_labels, prediction_imp),3))\n",
        "\n",
        "# Model Precision: what percentage of positive tuples are labeled as such?\n",
        "print(\"Precision based on Task 3 A Model using 11 Important Features:\",round(metrics.precision_score(test_labels, prediction_imp),3))\n",
        "\n",
        "# Model Recall: what percentage of positive tuples are labelled as such?\n",
        "print(\"Recall based on Task A Model using 11 Important Features:\",round(metrics.recall_score(test_labels, prediction_imp),3))"
      ],
      "execution_count": 0,
      "outputs": [
        {
          "output_type": "execute_result",
          "data": {
            "text/plain": [
              "[27, 28, 30, 29, 26, 31, 32, 33, 21, 23, 24]"
            ]
          },
          "metadata": {
            "tags": []
          },
          "execution_count": 21
        },
        {
          "output_type": "execute_result",
          "data": {
            "text/plain": [
              "array([[ 0.01576221, -0.31813363,  0.9423992 , ...,  0.34660748,\n",
              "         1.24280017,  0.29507222],\n",
              "       [-0.85115924, -1.44881858, -0.77673698, ..., -0.56551747,\n",
              "        -0.57815246, -0.60031934],\n",
              "       [ 1.7496051 ,  0.81255132, -1.63630507, ...,  0.34660748,\n",
              "        -1.48862878,  0.29507222],\n",
              "       ...,\n",
              "       [ 0.88268365,  0.81255132,  0.9423992 , ..., -1.47764242,\n",
              "         1.24280017,  1.19046377],\n",
              "       [ 0.01576221, -1.44881858,  0.9423992 , ...,  0.34660748,\n",
              "         1.24280017, -0.60031934],\n",
              "       [ 1.7496051 , -0.31813363, -0.77673698, ...,  1.25873243,\n",
              "         1.24280017, -0.60031934]])"
            ]
          },
          "metadata": {
            "tags": []
          },
          "execution_count": 21
        },
        {
          "output_type": "execute_result",
          "data": {
            "text/plain": [
              "RandomForestClassifier(bootstrap=False, class_weight=None, criterion='gini',\n",
              "            max_depth=15, max_features='log2', max_leaf_nodes=None,\n",
              "            min_impurity_decrease=0.0, min_impurity_split=None,\n",
              "            min_samples_leaf=1, min_samples_split=2,\n",
              "            min_weight_fraction_leaf=0.0, n_estimators=1000, n_jobs=1,\n",
              "            oob_score=False, random_state=43, verbose=0, warm_start=False)"
            ]
          },
          "metadata": {
            "tags": []
          },
          "execution_count": 21
        },
        {
          "output_type": "stream",
          "text": [
            "Accuracy based on Task 3 A Model using 11 Important Features: 0.961\n",
            "Precision based on Task 3 A Model using 11 Important Features: 0.977\n",
            "Recall based on Task A Model using 11 Important Features: 0.941\n"
          ],
          "name": "stdout"
        }
      ]
    },
    {
      "metadata": {
        "id": "slV_ZiqiGY-S",
        "colab_type": "text"
      },
      "cell_type": "markdown",
      "source": [
        "### Note\n",
        "Using the top 11 features and training the previous model from Task 3 A we got an accuracy of 96%. We will now use these important features and find out a tree that will BEST work on it and try get a better accuracy from the previous 96.9% that used all the features."
      ]
    },
    {
      "metadata": {
        "id": "HG3IuH9MGY-T",
        "colab_type": "text"
      },
      "cell_type": "markdown",
      "source": [
        "### Using important features ONLY and applying GridSearch to find best parameters to train & test Random Forest on"
      ]
    },
    {
      "metadata": {
        "id": "QanTeGEhGY-V",
        "colab_type": "code",
        "colab": {},
        "outputId": "bc520c6a-d766-4167-8b3f-e306c5495539"
      },
      "cell_type": "code",
      "source": [
        "# Instantiate model \n",
        "rf = RandomForestClassifier(random_state=44)\n",
        "\n",
        "param_grid = { \n",
        "    'n_estimators': [500,1000],\n",
        "    'max_features': ['auto', 'sqrt', 'log2'],\n",
        "    'max_depth' : [15,14,17,21],\n",
        "    'criterion' :['gini', 'entropy'],\n",
        "    'bootstrap': [True,False]\n",
        "}\n",
        "\n",
        "# Train the model on training data using GridSearch\n",
        "CV_rfc_imp = GridSearchCV(estimator=rf, param_grid=param_grid)\n",
        "CV_rfc_imp.fit(train_important, train_labels)\n",
        "\n",
        "\n",
        "#Grid Search Best Parameters\n",
        "CV_rfc_imp.best_params_"
      ],
      "execution_count": 0,
      "outputs": [
        {
          "output_type": "execute_result",
          "data": {
            "text/plain": [
              "GridSearchCV(cv=None, error_score='raise',\n",
              "       estimator=RandomForestClassifier(bootstrap=True, class_weight=None, criterion='gini',\n",
              "            max_depth=None, max_features='auto', max_leaf_nodes=None,\n",
              "            min_impurity_decrease=0.0, min_impurity_split=None,\n",
              "            min_samples_leaf=1, min_samples_split=2,\n",
              "            min_weight_fraction_leaf=0.0, n_estimators=10, n_jobs=1,\n",
              "            oob_score=False, random_state=44, verbose=0, warm_start=False),\n",
              "       fit_params=None, iid=True, n_jobs=1,\n",
              "       param_grid={'n_estimators': [500, 1000], 'max_features': ['auto', 'sqrt', 'log2'], 'max_depth': [15, 14, 17, 21], 'criterion': ['gini', 'entropy'], 'bootstrap': [True, False]},\n",
              "       pre_dispatch='2*n_jobs', refit=True, return_train_score='warn',\n",
              "       scoring=None, verbose=0)"
            ]
          },
          "metadata": {
            "tags": []
          },
          "execution_count": 22
        },
        {
          "output_type": "execute_result",
          "data": {
            "text/plain": [
              "{'bootstrap': True,\n",
              " 'criterion': 'gini',\n",
              " 'max_depth': 15,\n",
              " 'max_features': 'auto',\n",
              " 'n_estimators': 1000}"
            ]
          },
          "metadata": {
            "tags": []
          },
          "execution_count": 22
        }
      ]
    },
    {
      "metadata": {
        "id": "BvgwfOUvGY-c",
        "colab_type": "code",
        "colab": {},
        "outputId": "6057c1eb-c042-483c-ab84-ee6f5071a16d"
      },
      "cell_type": "code",
      "source": [
        "#Initiate the model with GridSearch Parameters\n",
        "\n",
        "rf_grid_imp = RandomForestClassifier(n_estimators = 1000,criterion = 'gini', max_depth = 15, \n",
        "                                     max_features= 'auto',bootstrap=True,random_state=45)\n",
        "\n",
        "# Train the model on training data\n",
        "start = time.time()\n",
        "rf_grid_imp.fit(train_features, train_labels)\n",
        "end = time.time()\n",
        "\n",
        "print(\"training time:\", round(end - start, 3),\"s\") # the time would be round to 3 decimal in seconds\n"
      ],
      "execution_count": 0,
      "outputs": [
        {
          "output_type": "execute_result",
          "data": {
            "text/plain": [
              "RandomForestClassifier(bootstrap=True, class_weight=None, criterion='gini',\n",
              "            max_depth=15, max_features='auto', max_leaf_nodes=None,\n",
              "            min_impurity_decrease=0.0, min_impurity_split=None,\n",
              "            min_samples_leaf=1, min_samples_split=2,\n",
              "            min_weight_fraction_leaf=0.0, n_estimators=1000, n_jobs=1,\n",
              "            oob_score=False, random_state=45, verbose=0, warm_start=False)"
            ]
          },
          "metadata": {
            "tags": []
          },
          "execution_count": 53
        },
        {
          "output_type": "stream",
          "text": [
            "training time: 2.994 s\n"
          ],
          "name": "stdout"
        }
      ]
    },
    {
      "metadata": {
        "id": "JLB_tc7xGY-g",
        "colab_type": "code",
        "colab": {},
        "outputId": "5b9b2c91-ceaf-4294-8752-c1016c6cc431"
      },
      "cell_type": "code",
      "source": [
        "# Use the forest's predict method on the test data\n",
        "start = time.time()\n",
        "predictions_important=rf_grid_imp.predict(test_features)\n",
        "end = time.time()\n",
        "\n",
        "print(\"test time:\", round(end - start, 3),\"s\") # the time would be round to 3 decimal in seconds"
      ],
      "execution_count": 0,
      "outputs": [
        {
          "output_type": "stream",
          "text": [
            "test time: 0.281 s\n"
          ],
          "name": "stdout"
        }
      ]
    },
    {
      "metadata": {
        "id": "ONHHofGWGY-k",
        "colab_type": "code",
        "colab": {},
        "outputId": "7d51be08-fe1c-41dc-c646-309f3729a430"
      },
      "cell_type": "code",
      "source": [
        "#Import scikit-learn metrics module for accuracy calculation\n",
        "from sklearn import metrics\n",
        "\n",
        "# Model Accuracy: how often is the classifier correct?\n",
        "print(\"Accuracy based on Classifier 5 using 11 Important Features from task 3A:\",round(metrics.accuracy_score(test_labels, predictions_important),3))\n",
        "\n",
        "# Model Precision: what percentage of positive tuples are labeled as such?\n",
        "print(\"Precision based on Classifier 5 based on 11 Important Features Ifrom task 3A:\",round(metrics.precision_score(test_labels, predictions_important),3))\n",
        "\n",
        "# Model Recall: what percentage of positive tuples are labelled as such?\n",
        "print(\"Recall based on Classifier 5 based on 11 Important Features from task 3A:\",round(metrics.recall_score(test_labels, predictions_important),3))"
      ],
      "execution_count": 0,
      "outputs": [
        {
          "output_type": "stream",
          "text": [
            "Accuracy based on Classifier 5 using 11 Important Features from task 3A: 0.974\n",
            "Precision based on Classifier 5 based on 11 Important Features Ifrom task 3A: 0.987\n",
            "Recall based on Classifier 5 based on 11 Important Features from task 3A: 0.96\n"
          ],
          "name": "stdout"
        }
      ]
    },
    {
      "metadata": {
        "id": "eqtzCGyVGY-p",
        "colab_type": "text"
      },
      "cell_type": "markdown",
      "source": [
        "### Conclusion for using classifier 5"
      ]
    },
    {
      "metadata": {
        "id": "Rrpsm7_aGY-q",
        "colab_type": "text"
      },
      "cell_type": "markdown",
      "source": [
        "#### Using 57 Features:\n",
        "##### RandomForestClassifier(n_estimators = 500, criterion = 'gini', max_depth = 15, max_features= 'log2',bootstrap=False)\n",
        "1. Accuracy based on 57 Features: 0.9697\n",
        "2. Precision based on 57 Features: 0.978\n",
        "3. Recall based on 57 Features: 0.96\n",
        "\n",
        "#### Using 11 Features with Classifier 5:\n",
        "##### RandomForestClassifier(n_estimators = 500,criterion = 'gini', max_depth = 15,  max_features= 'auto',bootstrap=True,random_state=43)\n",
        "1. Accuracy based on Classifier 5 using 11 Important Features from task 3A: 0.974\n",
        "2. Precision based on Classifier 5 based on 11 Important Features Ifrom task 3A: 0.987\n",
        "3. Recall based on Classifier 5 based on 11 Important Features from task 3A: 0.96\n",
        "\n",
        "#### Conclusion\n",
        "Using just 11 features and Bootstrap we were able to get a better result of using the Classifier 5 (variation of Random Forest).\n",
        "The training time was also better from 2.063 to 1.462 on the training and from 0.11 to 0.10 on test set. A noticeable difference on such small data set."
      ]
    },
    {
      "metadata": {
        "id": "MEHTopTiGY-r",
        "colab_type": "text"
      },
      "cell_type": "markdown",
      "source": [
        "### Visualizing a Single Decision Tree of Classifier 5"
      ]
    },
    {
      "metadata": {
        "id": "v_3kmU35GY-s",
        "colab_type": "code",
        "colab": {}
      },
      "cell_type": "code",
      "source": [
        "# Import tools needed for visualization\n",
        "from sklearn.tree import export_graphviz\n",
        "import pydot\n",
        "\n",
        "# Pull out one tree from the forest\n",
        "tree = rf_grid_imp.estimators_[102]\n",
        "\n",
        "# Export the image to a dot file\n",
        "export_graphviz(tree, out_file = 'tree.dot', feature_names = feature_list, rounded = True, precision = 1)\n",
        "\n",
        "# Use dot file to create a graph\n",
        "(graph, ) = pydot.graph_from_dot_file('tree.dot')\n",
        "\n",
        "# Write graph to a png file\n",
        "graph.write_png('tree.png'); "
      ],
      "execution_count": 0,
      "outputs": []
    },
    {
      "metadata": {
        "id": "LsGVC41nGY-1",
        "colab_type": "code",
        "colab": {},
        "outputId": "06d75fbc-e2ba-4e7e-a525-aafac0fcf2eb"
      },
      "cell_type": "code",
      "source": [
        "print('The depth of this tree is:', tree.tree_.max_depth)"
      ],
      "execution_count": 0,
      "outputs": [
        {
          "output_type": "stream",
          "text": [
            "The depth of this tree is: 15\n"
          ],
          "name": "stdout"
        }
      ]
    },
    {
      "metadata": {
        "id": "EEDwFEShGY-8",
        "colab_type": "text"
      },
      "cell_type": "markdown",
      "source": [
        "![tree.png](attachment:tree.png)"
      ]
    },
    {
      "metadata": {
        "id": "247USY8nGY-9",
        "colab_type": "text"
      },
      "cell_type": "markdown",
      "source": [
        "## 6th Classifier (Variation of Neural Network) \n",
        "\n",
        "consider a deeper neural networkwith multiple layers, use di erent optimization/solver algorithms, "
      ]
    },
    {
      "metadata": {
        "id": "hqt7O5yIGY--",
        "colab_type": "code",
        "colab": {}
      },
      "cell_type": "code",
      "source": [
        ""
      ],
      "execution_count": 0,
      "outputs": []
    },
    {
      "metadata": {
        "id": "LsebKewQGY_E",
        "colab_type": "text"
      },
      "cell_type": "markdown",
      "source": [
        "# Question 2 Part 3 Task C"
      ]
    },
    {
      "metadata": {
        "id": "Mxmk3ButGY_I",
        "colab_type": "text"
      },
      "cell_type": "markdown",
      "source": [
        "### KNN (Classifier 1) Run 20 Times "
      ]
    },
    {
      "metadata": {
        "id": "RWn7kuQwGY_J",
        "colab_type": "code",
        "colab": {}
      },
      "cell_type": "code",
      "source": [
        ""
      ],
      "execution_count": 0,
      "outputs": []
    },
    {
      "metadata": {
        "id": "0rFG-A-QGY_M",
        "colab_type": "text"
      },
      "cell_type": "markdown",
      "source": [
        "### SVM (Classifier 2) Run 20 Times "
      ]
    },
    {
      "metadata": {
        "id": "X24y-qtpGY_N",
        "colab_type": "code",
        "colab": {}
      },
      "cell_type": "code",
      "source": [
        ""
      ],
      "execution_count": 0,
      "outputs": []
    },
    {
      "metadata": {
        "id": "vhBCe4O4GY_P",
        "colab_type": "text"
      },
      "cell_type": "markdown",
      "source": [
        "### Random Forest (Classifier 3) Run 20 Times "
      ]
    },
    {
      "metadata": {
        "id": "JIWy1ao7GY_Q",
        "colab_type": "code",
        "colab": {},
        "outputId": "3335427d-4575-4bd0-f25c-cd6ce2d42723"
      },
      "cell_type": "code",
      "source": [
        "#Number of Runs set to N\n",
        "N=20\n",
        "training_time=[]\n",
        "test_time=[]\n",
        "accuracy_rf_recur=[]\n",
        "precision_rf_recur=[]\n",
        "recall_rf_recur=[]\n",
        "\n",
        "#Training Data\n",
        "rf_recur = RandomForestClassifier(n_estimators = 500, criterion = 'gini', max_depth = 15, max_features= 'log2',\n",
        "                                     bootstrap=False,random_state=43)\n",
        "\n",
        "# Split the data into training and testing sets\n",
        "\n",
        "for i in range(0,N):\n",
        "    # Split the data into training and testing sets\n",
        "    train_features_rf_recur, test_features_rf_recur, train_labels_rf_recur, test_labels_rf_recur = train_test_split(features, \n",
        "                                                                            labels, test_size = 0.3)\n",
        "    \n",
        "   \n",
        "\n",
        "    # Train the model on training data\n",
        "    rf_recur_start = time.time()\n",
        "    #training\n",
        "    rf_recur.fit(train_features_rf_recur, train_labels_rf_recur)\n",
        "    \n",
        "    rf_recur_end = time.time()\n",
        "    training_time.append(round(rf_recur_end - rf_recur_start, 3))\n",
        "    \n",
        " \n",
        "    #Testing Data\n",
        "    # Use the forest's predict method on the test data\n",
        "    rf_test_start = time.time()\n",
        "    \n",
        "    #prediction\n",
        "    rf_recur_prediction=rf_recur.predict(test_features_rf_recur)\n",
        "    \n",
        "    rf_test_end = time.time()\n",
        "    test_time.append(round(rf_test_end - rf_test_start, 3))\n",
        "    \n",
        "    #Storing Accuracies\n",
        "    # Model Accuracy: how often is the classifier correct?\n",
        "    accuracy_rf_recur.append(round(metrics.accuracy_score(test_labels_rf_recur, rf_recur_prediction),4))\n",
        "    \n",
        "    # Model Precision: what percentage of positive tuples are labeled as such?\n",
        "    precision_rf_recur.append(round(metrics.precision_score(test_labels_rf_recur, rf_recur_prediction),3))\n",
        "\n",
        "    # Model Recall: what percentage of positive tuples are labelled as such?\n",
        "    recall_rf_recur.append(round(metrics.recall_score(test_labels_rf_recur, rf_recur_prediction),3))\n",
        "    \n",
        "mean_acc=np.mean(accuracy_rf_recur)\n",
        "mean_prec=np.mean(precision_rf_recur)\n",
        "mean_rec=np.mean(recall_rf_recur)\n",
        "\n",
        "avg_test=np.mean(test_time)\n",
        "avg_train=np.mean(training_time)\n"
      ],
      "execution_count": 0,
      "outputs": [
        {
          "output_type": "execute_result",
          "data": {
            "text/plain": [
              "RandomForestClassifier(bootstrap=False, class_weight=None, criterion='gini',\n",
              "            max_depth=15, max_features='log2', max_leaf_nodes=None,\n",
              "            min_impurity_decrease=0.0, min_impurity_split=None,\n",
              "            min_samples_leaf=1, min_samples_split=2,\n",
              "            min_weight_fraction_leaf=0.0, n_estimators=500, n_jobs=1,\n",
              "            oob_score=False, random_state=43, verbose=0, warm_start=False)"
            ]
          },
          "metadata": {
            "tags": []
          },
          "execution_count": 77
        },
        {
          "output_type": "execute_result",
          "data": {
            "text/plain": [
              "RandomForestClassifier(bootstrap=False, class_weight=None, criterion='gini',\n",
              "            max_depth=15, max_features='log2', max_leaf_nodes=None,\n",
              "            min_impurity_decrease=0.0, min_impurity_split=None,\n",
              "            min_samples_leaf=1, min_samples_split=2,\n",
              "            min_weight_fraction_leaf=0.0, n_estimators=500, n_jobs=1,\n",
              "            oob_score=False, random_state=43, verbose=0, warm_start=False)"
            ]
          },
          "metadata": {
            "tags": []
          },
          "execution_count": 77
        },
        {
          "output_type": "execute_result",
          "data": {
            "text/plain": [
              "RandomForestClassifier(bootstrap=False, class_weight=None, criterion='gini',\n",
              "            max_depth=15, max_features='log2', max_leaf_nodes=None,\n",
              "            min_impurity_decrease=0.0, min_impurity_split=None,\n",
              "            min_samples_leaf=1, min_samples_split=2,\n",
              "            min_weight_fraction_leaf=0.0, n_estimators=500, n_jobs=1,\n",
              "            oob_score=False, random_state=43, verbose=0, warm_start=False)"
            ]
          },
          "metadata": {
            "tags": []
          },
          "execution_count": 77
        },
        {
          "output_type": "execute_result",
          "data": {
            "text/plain": [
              "RandomForestClassifier(bootstrap=False, class_weight=None, criterion='gini',\n",
              "            max_depth=15, max_features='log2', max_leaf_nodes=None,\n",
              "            min_impurity_decrease=0.0, min_impurity_split=None,\n",
              "            min_samples_leaf=1, min_samples_split=2,\n",
              "            min_weight_fraction_leaf=0.0, n_estimators=500, n_jobs=1,\n",
              "            oob_score=False, random_state=43, verbose=0, warm_start=False)"
            ]
          },
          "metadata": {
            "tags": []
          },
          "execution_count": 77
        },
        {
          "output_type": "execute_result",
          "data": {
            "text/plain": [
              "RandomForestClassifier(bootstrap=False, class_weight=None, criterion='gini',\n",
              "            max_depth=15, max_features='log2', max_leaf_nodes=None,\n",
              "            min_impurity_decrease=0.0, min_impurity_split=None,\n",
              "            min_samples_leaf=1, min_samples_split=2,\n",
              "            min_weight_fraction_leaf=0.0, n_estimators=500, n_jobs=1,\n",
              "            oob_score=False, random_state=43, verbose=0, warm_start=False)"
            ]
          },
          "metadata": {
            "tags": []
          },
          "execution_count": 77
        },
        {
          "output_type": "execute_result",
          "data": {
            "text/plain": [
              "RandomForestClassifier(bootstrap=False, class_weight=None, criterion='gini',\n",
              "            max_depth=15, max_features='log2', max_leaf_nodes=None,\n",
              "            min_impurity_decrease=0.0, min_impurity_split=None,\n",
              "            min_samples_leaf=1, min_samples_split=2,\n",
              "            min_weight_fraction_leaf=0.0, n_estimators=500, n_jobs=1,\n",
              "            oob_score=False, random_state=43, verbose=0, warm_start=False)"
            ]
          },
          "metadata": {
            "tags": []
          },
          "execution_count": 77
        },
        {
          "output_type": "execute_result",
          "data": {
            "text/plain": [
              "RandomForestClassifier(bootstrap=False, class_weight=None, criterion='gini',\n",
              "            max_depth=15, max_features='log2', max_leaf_nodes=None,\n",
              "            min_impurity_decrease=0.0, min_impurity_split=None,\n",
              "            min_samples_leaf=1, min_samples_split=2,\n",
              "            min_weight_fraction_leaf=0.0, n_estimators=500, n_jobs=1,\n",
              "            oob_score=False, random_state=43, verbose=0, warm_start=False)"
            ]
          },
          "metadata": {
            "tags": []
          },
          "execution_count": 77
        },
        {
          "output_type": "execute_result",
          "data": {
            "text/plain": [
              "RandomForestClassifier(bootstrap=False, class_weight=None, criterion='gini',\n",
              "            max_depth=15, max_features='log2', max_leaf_nodes=None,\n",
              "            min_impurity_decrease=0.0, min_impurity_split=None,\n",
              "            min_samples_leaf=1, min_samples_split=2,\n",
              "            min_weight_fraction_leaf=0.0, n_estimators=500, n_jobs=1,\n",
              "            oob_score=False, random_state=43, verbose=0, warm_start=False)"
            ]
          },
          "metadata": {
            "tags": []
          },
          "execution_count": 77
        },
        {
          "output_type": "execute_result",
          "data": {
            "text/plain": [
              "RandomForestClassifier(bootstrap=False, class_weight=None, criterion='gini',\n",
              "            max_depth=15, max_features='log2', max_leaf_nodes=None,\n",
              "            min_impurity_decrease=0.0, min_impurity_split=None,\n",
              "            min_samples_leaf=1, min_samples_split=2,\n",
              "            min_weight_fraction_leaf=0.0, n_estimators=500, n_jobs=1,\n",
              "            oob_score=False, random_state=43, verbose=0, warm_start=False)"
            ]
          },
          "metadata": {
            "tags": []
          },
          "execution_count": 77
        },
        {
          "output_type": "execute_result",
          "data": {
            "text/plain": [
              "RandomForestClassifier(bootstrap=False, class_weight=None, criterion='gini',\n",
              "            max_depth=15, max_features='log2', max_leaf_nodes=None,\n",
              "            min_impurity_decrease=0.0, min_impurity_split=None,\n",
              "            min_samples_leaf=1, min_samples_split=2,\n",
              "            min_weight_fraction_leaf=0.0, n_estimators=500, n_jobs=1,\n",
              "            oob_score=False, random_state=43, verbose=0, warm_start=False)"
            ]
          },
          "metadata": {
            "tags": []
          },
          "execution_count": 77
        },
        {
          "output_type": "execute_result",
          "data": {
            "text/plain": [
              "RandomForestClassifier(bootstrap=False, class_weight=None, criterion='gini',\n",
              "            max_depth=15, max_features='log2', max_leaf_nodes=None,\n",
              "            min_impurity_decrease=0.0, min_impurity_split=None,\n",
              "            min_samples_leaf=1, min_samples_split=2,\n",
              "            min_weight_fraction_leaf=0.0, n_estimators=500, n_jobs=1,\n",
              "            oob_score=False, random_state=43, verbose=0, warm_start=False)"
            ]
          },
          "metadata": {
            "tags": []
          },
          "execution_count": 77
        },
        {
          "output_type": "execute_result",
          "data": {
            "text/plain": [
              "RandomForestClassifier(bootstrap=False, class_weight=None, criterion='gini',\n",
              "            max_depth=15, max_features='log2', max_leaf_nodes=None,\n",
              "            min_impurity_decrease=0.0, min_impurity_split=None,\n",
              "            min_samples_leaf=1, min_samples_split=2,\n",
              "            min_weight_fraction_leaf=0.0, n_estimators=500, n_jobs=1,\n",
              "            oob_score=False, random_state=43, verbose=0, warm_start=False)"
            ]
          },
          "metadata": {
            "tags": []
          },
          "execution_count": 77
        },
        {
          "output_type": "execute_result",
          "data": {
            "text/plain": [
              "RandomForestClassifier(bootstrap=False, class_weight=None, criterion='gini',\n",
              "            max_depth=15, max_features='log2', max_leaf_nodes=None,\n",
              "            min_impurity_decrease=0.0, min_impurity_split=None,\n",
              "            min_samples_leaf=1, min_samples_split=2,\n",
              "            min_weight_fraction_leaf=0.0, n_estimators=500, n_jobs=1,\n",
              "            oob_score=False, random_state=43, verbose=0, warm_start=False)"
            ]
          },
          "metadata": {
            "tags": []
          },
          "execution_count": 77
        },
        {
          "output_type": "execute_result",
          "data": {
            "text/plain": [
              "RandomForestClassifier(bootstrap=False, class_weight=None, criterion='gini',\n",
              "            max_depth=15, max_features='log2', max_leaf_nodes=None,\n",
              "            min_impurity_decrease=0.0, min_impurity_split=None,\n",
              "            min_samples_leaf=1, min_samples_split=2,\n",
              "            min_weight_fraction_leaf=0.0, n_estimators=500, n_jobs=1,\n",
              "            oob_score=False, random_state=43, verbose=0, warm_start=False)"
            ]
          },
          "metadata": {
            "tags": []
          },
          "execution_count": 77
        },
        {
          "output_type": "execute_result",
          "data": {
            "text/plain": [
              "RandomForestClassifier(bootstrap=False, class_weight=None, criterion='gini',\n",
              "            max_depth=15, max_features='log2', max_leaf_nodes=None,\n",
              "            min_impurity_decrease=0.0, min_impurity_split=None,\n",
              "            min_samples_leaf=1, min_samples_split=2,\n",
              "            min_weight_fraction_leaf=0.0, n_estimators=500, n_jobs=1,\n",
              "            oob_score=False, random_state=43, verbose=0, warm_start=False)"
            ]
          },
          "metadata": {
            "tags": []
          },
          "execution_count": 77
        },
        {
          "output_type": "execute_result",
          "data": {
            "text/plain": [
              "RandomForestClassifier(bootstrap=False, class_weight=None, criterion='gini',\n",
              "            max_depth=15, max_features='log2', max_leaf_nodes=None,\n",
              "            min_impurity_decrease=0.0, min_impurity_split=None,\n",
              "            min_samples_leaf=1, min_samples_split=2,\n",
              "            min_weight_fraction_leaf=0.0, n_estimators=500, n_jobs=1,\n",
              "            oob_score=False, random_state=43, verbose=0, warm_start=False)"
            ]
          },
          "metadata": {
            "tags": []
          },
          "execution_count": 77
        },
        {
          "output_type": "execute_result",
          "data": {
            "text/plain": [
              "RandomForestClassifier(bootstrap=False, class_weight=None, criterion='gini',\n",
              "            max_depth=15, max_features='log2', max_leaf_nodes=None,\n",
              "            min_impurity_decrease=0.0, min_impurity_split=None,\n",
              "            min_samples_leaf=1, min_samples_split=2,\n",
              "            min_weight_fraction_leaf=0.0, n_estimators=500, n_jobs=1,\n",
              "            oob_score=False, random_state=43, verbose=0, warm_start=False)"
            ]
          },
          "metadata": {
            "tags": []
          },
          "execution_count": 77
        },
        {
          "output_type": "execute_result",
          "data": {
            "text/plain": [
              "RandomForestClassifier(bootstrap=False, class_weight=None, criterion='gini',\n",
              "            max_depth=15, max_features='log2', max_leaf_nodes=None,\n",
              "            min_impurity_decrease=0.0, min_impurity_split=None,\n",
              "            min_samples_leaf=1, min_samples_split=2,\n",
              "            min_weight_fraction_leaf=0.0, n_estimators=500, n_jobs=1,\n",
              "            oob_score=False, random_state=43, verbose=0, warm_start=False)"
            ]
          },
          "metadata": {
            "tags": []
          },
          "execution_count": 77
        },
        {
          "output_type": "execute_result",
          "data": {
            "text/plain": [
              "RandomForestClassifier(bootstrap=False, class_weight=None, criterion='gini',\n",
              "            max_depth=15, max_features='log2', max_leaf_nodes=None,\n",
              "            min_impurity_decrease=0.0, min_impurity_split=None,\n",
              "            min_samples_leaf=1, min_samples_split=2,\n",
              "            min_weight_fraction_leaf=0.0, n_estimators=500, n_jobs=1,\n",
              "            oob_score=False, random_state=43, verbose=0, warm_start=False)"
            ]
          },
          "metadata": {
            "tags": []
          },
          "execution_count": 77
        },
        {
          "output_type": "execute_result",
          "data": {
            "text/plain": [
              "RandomForestClassifier(bootstrap=False, class_weight=None, criterion='gini',\n",
              "            max_depth=15, max_features='log2', max_leaf_nodes=None,\n",
              "            min_impurity_decrease=0.0, min_impurity_split=None,\n",
              "            min_samples_leaf=1, min_samples_split=2,\n",
              "            min_weight_fraction_leaf=0.0, n_estimators=500, n_jobs=1,\n",
              "            oob_score=False, random_state=43, verbose=0, warm_start=False)"
            ]
          },
          "metadata": {
            "tags": []
          },
          "execution_count": 77
        }
      ]
    },
    {
      "metadata": {
        "id": "XXwJ3bY-GY_U",
        "colab_type": "code",
        "colab": {},
        "outputId": "4a740e82-141c-48b8-830b-8a01a7be4559"
      },
      "cell_type": "code",
      "source": [
        "print(\"Average Mean of Accuracies of Random Forest is:  %g\" % round(mean_acc,3),\"With %g Iterations\" % N)\n",
        "\n",
        "print(\"Average Mean of Precision of Random Forest is:  %g\" % round(mean_prec,3),\"With %g Iterations\" % N)\n",
        "\n",
        "print(\"Average Mean of Recall of Random Forest is:  %g\" % round(mean_rec,3),\"With %g Iterations\" % N)\n",
        "\n",
        "print(\"Average Mean of Training Time of Random Forest is:  %g\" % round(avg_train,3),\"With %g Iterations\" % N)\n",
        "print(\"Average Mean of Test Time of Random Forest is:  %g\" % round(avg_test,3),\"With %g Iterations\" % N)"
      ],
      "execution_count": 0,
      "outputs": [
        {
          "output_type": "stream",
          "text": [
            "Average Mean of Accuracies of Random Forest is:  0.968 With 20 Iterations\n",
            "Average Mean of Precision of Random Forest is:  0.981 With 20 Iterations\n",
            "Average Mean of Recall of Random Forest is:  0.957 With 20 Iterations\n",
            "Average Mean of Training Time of Random Forest is:  1.895 With 20 Iterations\n",
            "Average Mean of Test Time of Random Forest is:  0.129 With 20 Iterations\n"
          ],
          "name": "stdout"
        }
      ]
    },
    {
      "metadata": {
        "id": "C0_X5_TVGY_b",
        "colab_type": "text"
      },
      "cell_type": "markdown",
      "source": [
        "### Neural Network Classifier 4 (Run 20 times)"
      ]
    },
    {
      "metadata": {
        "id": "3Cgcway4GY_c",
        "colab_type": "code",
        "colab": {},
        "outputId": "69a9f27d-e4e5-4b25-e27e-ed62cff7066f"
      },
      "cell_type": "code",
      "source": [
        "#Number of Runs set to N\n",
        "N=20\n",
        "training_time_nu=[]\n",
        "test_time_nu=[]\n",
        "accuracy_nu_recur=[]\n",
        "precision_nu_recur=[]\n",
        "recall_nu_recur=[]\n",
        "\n",
        "#Training Data\n",
        "nu_recur = neural_network.MLPClassifier(alpha=0.01, hidden_layer_sizes =(10,10,5), \n",
        "                                  max_iter=100, random_state=3, solver='lbfgs',activation='relu')\n",
        "\n",
        "\n",
        "# Split the data into training and testing sets\n",
        "\n",
        "for i in range(0,N):\n",
        "    # Split the data into training and testing sets\n",
        "    train_features_nu_recur, test_features_nu_recur, train_labels_nu_recur, test_labels_nu_recur = train_test_split(features, \n",
        "                                                                            labels, test_size = 0.3)\n",
        "    \n",
        "    # Train the model on training data\n",
        "    nu_recur_start = time.time()\n",
        "    #training\n",
        "    nu_recur.fit(train_features_nu_recur, train_labels_nu_recur)\n",
        "    \n",
        "    nu_recur_end = time.time()\n",
        "    training_time_nu.append(round(nu_recur_end - nu_recur_start, 3))\n",
        "    \n",
        " \n",
        "    #Testing Data\n",
        "    # Use the forest's predict method on the test data\n",
        "    nu_test_start = time.time()\n",
        "    \n",
        "    #prediction\n",
        "    nu_recur_prediction=nu_recur.predict(test_features_nu_recur)\n",
        "    \n",
        "    nu_test_end = time.time()\n",
        "    test_time_nu.append(round(nu_test_end - nu_test_start, 3))\n",
        "    \n",
        "    #Storing Accuracies\n",
        "    # Model Accuracy: how often is the classifier correct?\n",
        "    accuracy_nu_recur.append(round(metrics.accuracy_score(test_labels_nu_recur, nu_recur_prediction),4))\n",
        "    \n",
        "    # Model Precision: what percentage of positive tuples are labeled as such?\n",
        "    precision_nu_recur.append(round(metrics.precision_score(test_labels_nu_recur, nu_recur_prediction),3))\n",
        "\n",
        "    # Model Recall: what percentage of positive tuples are labelled as such?\n",
        "    recall_nu_recur.append(round(metrics.recall_score(test_labels_nu_recur, nu_recur_prediction),3))\n",
        "    \n",
        "mean_acc_nu=np.mean(accuracy_nu_recur)\n",
        "mean_prec_nu=np.mean(precision_nu_recur)\n",
        "mean_rec_nu=np.mean(recall_nu_recur)\n",
        "\n",
        "avg_test_nu=np.mean(test_time_nu)\n",
        "avg_train_nu=np.mean(training_time_nu)\n"
      ],
      "execution_count": 0,
      "outputs": [
        {
          "output_type": "execute_result",
          "data": {
            "text/plain": [
              "MLPClassifier(activation='relu', alpha=0.01, batch_size='auto', beta_1=0.9,\n",
              "       beta_2=0.999, early_stopping=False, epsilon=1e-08,\n",
              "       hidden_layer_sizes=(10, 10, 5), learning_rate='constant',\n",
              "       learning_rate_init=0.001, max_iter=100, momentum=0.9,\n",
              "       nesterovs_momentum=True, power_t=0.5, random_state=3, shuffle=True,\n",
              "       solver='lbfgs', tol=0.0001, validation_fraction=0.1, verbose=False,\n",
              "       warm_start=False)"
            ]
          },
          "metadata": {
            "tags": []
          },
          "execution_count": 79
        },
        {
          "output_type": "execute_result",
          "data": {
            "text/plain": [
              "MLPClassifier(activation='relu', alpha=0.01, batch_size='auto', beta_1=0.9,\n",
              "       beta_2=0.999, early_stopping=False, epsilon=1e-08,\n",
              "       hidden_layer_sizes=(10, 10, 5), learning_rate='constant',\n",
              "       learning_rate_init=0.001, max_iter=100, momentum=0.9,\n",
              "       nesterovs_momentum=True, power_t=0.5, random_state=3, shuffle=True,\n",
              "       solver='lbfgs', tol=0.0001, validation_fraction=0.1, verbose=False,\n",
              "       warm_start=False)"
            ]
          },
          "metadata": {
            "tags": []
          },
          "execution_count": 79
        },
        {
          "output_type": "execute_result",
          "data": {
            "text/plain": [
              "MLPClassifier(activation='relu', alpha=0.01, batch_size='auto', beta_1=0.9,\n",
              "       beta_2=0.999, early_stopping=False, epsilon=1e-08,\n",
              "       hidden_layer_sizes=(10, 10, 5), learning_rate='constant',\n",
              "       learning_rate_init=0.001, max_iter=100, momentum=0.9,\n",
              "       nesterovs_momentum=True, power_t=0.5, random_state=3, shuffle=True,\n",
              "       solver='lbfgs', tol=0.0001, validation_fraction=0.1, verbose=False,\n",
              "       warm_start=False)"
            ]
          },
          "metadata": {
            "tags": []
          },
          "execution_count": 79
        },
        {
          "output_type": "execute_result",
          "data": {
            "text/plain": [
              "MLPClassifier(activation='relu', alpha=0.01, batch_size='auto', beta_1=0.9,\n",
              "       beta_2=0.999, early_stopping=False, epsilon=1e-08,\n",
              "       hidden_layer_sizes=(10, 10, 5), learning_rate='constant',\n",
              "       learning_rate_init=0.001, max_iter=100, momentum=0.9,\n",
              "       nesterovs_momentum=True, power_t=0.5, random_state=3, shuffle=True,\n",
              "       solver='lbfgs', tol=0.0001, validation_fraction=0.1, verbose=False,\n",
              "       warm_start=False)"
            ]
          },
          "metadata": {
            "tags": []
          },
          "execution_count": 79
        },
        {
          "output_type": "execute_result",
          "data": {
            "text/plain": [
              "MLPClassifier(activation='relu', alpha=0.01, batch_size='auto', beta_1=0.9,\n",
              "       beta_2=0.999, early_stopping=False, epsilon=1e-08,\n",
              "       hidden_layer_sizes=(10, 10, 5), learning_rate='constant',\n",
              "       learning_rate_init=0.001, max_iter=100, momentum=0.9,\n",
              "       nesterovs_momentum=True, power_t=0.5, random_state=3, shuffle=True,\n",
              "       solver='lbfgs', tol=0.0001, validation_fraction=0.1, verbose=False,\n",
              "       warm_start=False)"
            ]
          },
          "metadata": {
            "tags": []
          },
          "execution_count": 79
        },
        {
          "output_type": "execute_result",
          "data": {
            "text/plain": [
              "MLPClassifier(activation='relu', alpha=0.01, batch_size='auto', beta_1=0.9,\n",
              "       beta_2=0.999, early_stopping=False, epsilon=1e-08,\n",
              "       hidden_layer_sizes=(10, 10, 5), learning_rate='constant',\n",
              "       learning_rate_init=0.001, max_iter=100, momentum=0.9,\n",
              "       nesterovs_momentum=True, power_t=0.5, random_state=3, shuffle=True,\n",
              "       solver='lbfgs', tol=0.0001, validation_fraction=0.1, verbose=False,\n",
              "       warm_start=False)"
            ]
          },
          "metadata": {
            "tags": []
          },
          "execution_count": 79
        },
        {
          "output_type": "execute_result",
          "data": {
            "text/plain": [
              "MLPClassifier(activation='relu', alpha=0.01, batch_size='auto', beta_1=0.9,\n",
              "       beta_2=0.999, early_stopping=False, epsilon=1e-08,\n",
              "       hidden_layer_sizes=(10, 10, 5), learning_rate='constant',\n",
              "       learning_rate_init=0.001, max_iter=100, momentum=0.9,\n",
              "       nesterovs_momentum=True, power_t=0.5, random_state=3, shuffle=True,\n",
              "       solver='lbfgs', tol=0.0001, validation_fraction=0.1, verbose=False,\n",
              "       warm_start=False)"
            ]
          },
          "metadata": {
            "tags": []
          },
          "execution_count": 79
        },
        {
          "output_type": "execute_result",
          "data": {
            "text/plain": [
              "MLPClassifier(activation='relu', alpha=0.01, batch_size='auto', beta_1=0.9,\n",
              "       beta_2=0.999, early_stopping=False, epsilon=1e-08,\n",
              "       hidden_layer_sizes=(10, 10, 5), learning_rate='constant',\n",
              "       learning_rate_init=0.001, max_iter=100, momentum=0.9,\n",
              "       nesterovs_momentum=True, power_t=0.5, random_state=3, shuffle=True,\n",
              "       solver='lbfgs', tol=0.0001, validation_fraction=0.1, verbose=False,\n",
              "       warm_start=False)"
            ]
          },
          "metadata": {
            "tags": []
          },
          "execution_count": 79
        },
        {
          "output_type": "execute_result",
          "data": {
            "text/plain": [
              "MLPClassifier(activation='relu', alpha=0.01, batch_size='auto', beta_1=0.9,\n",
              "       beta_2=0.999, early_stopping=False, epsilon=1e-08,\n",
              "       hidden_layer_sizes=(10, 10, 5), learning_rate='constant',\n",
              "       learning_rate_init=0.001, max_iter=100, momentum=0.9,\n",
              "       nesterovs_momentum=True, power_t=0.5, random_state=3, shuffle=True,\n",
              "       solver='lbfgs', tol=0.0001, validation_fraction=0.1, verbose=False,\n",
              "       warm_start=False)"
            ]
          },
          "metadata": {
            "tags": []
          },
          "execution_count": 79
        },
        {
          "output_type": "execute_result",
          "data": {
            "text/plain": [
              "MLPClassifier(activation='relu', alpha=0.01, batch_size='auto', beta_1=0.9,\n",
              "       beta_2=0.999, early_stopping=False, epsilon=1e-08,\n",
              "       hidden_layer_sizes=(10, 10, 5), learning_rate='constant',\n",
              "       learning_rate_init=0.001, max_iter=100, momentum=0.9,\n",
              "       nesterovs_momentum=True, power_t=0.5, random_state=3, shuffle=True,\n",
              "       solver='lbfgs', tol=0.0001, validation_fraction=0.1, verbose=False,\n",
              "       warm_start=False)"
            ]
          },
          "metadata": {
            "tags": []
          },
          "execution_count": 79
        },
        {
          "output_type": "execute_result",
          "data": {
            "text/plain": [
              "MLPClassifier(activation='relu', alpha=0.01, batch_size='auto', beta_1=0.9,\n",
              "       beta_2=0.999, early_stopping=False, epsilon=1e-08,\n",
              "       hidden_layer_sizes=(10, 10, 5), learning_rate='constant',\n",
              "       learning_rate_init=0.001, max_iter=100, momentum=0.9,\n",
              "       nesterovs_momentum=True, power_t=0.5, random_state=3, shuffle=True,\n",
              "       solver='lbfgs', tol=0.0001, validation_fraction=0.1, verbose=False,\n",
              "       warm_start=False)"
            ]
          },
          "metadata": {
            "tags": []
          },
          "execution_count": 79
        },
        {
          "output_type": "execute_result",
          "data": {
            "text/plain": [
              "MLPClassifier(activation='relu', alpha=0.01, batch_size='auto', beta_1=0.9,\n",
              "       beta_2=0.999, early_stopping=False, epsilon=1e-08,\n",
              "       hidden_layer_sizes=(10, 10, 5), learning_rate='constant',\n",
              "       learning_rate_init=0.001, max_iter=100, momentum=0.9,\n",
              "       nesterovs_momentum=True, power_t=0.5, random_state=3, shuffle=True,\n",
              "       solver='lbfgs', tol=0.0001, validation_fraction=0.1, verbose=False,\n",
              "       warm_start=False)"
            ]
          },
          "metadata": {
            "tags": []
          },
          "execution_count": 79
        },
        {
          "output_type": "execute_result",
          "data": {
            "text/plain": [
              "MLPClassifier(activation='relu', alpha=0.01, batch_size='auto', beta_1=0.9,\n",
              "       beta_2=0.999, early_stopping=False, epsilon=1e-08,\n",
              "       hidden_layer_sizes=(10, 10, 5), learning_rate='constant',\n",
              "       learning_rate_init=0.001, max_iter=100, momentum=0.9,\n",
              "       nesterovs_momentum=True, power_t=0.5, random_state=3, shuffle=True,\n",
              "       solver='lbfgs', tol=0.0001, validation_fraction=0.1, verbose=False,\n",
              "       warm_start=False)"
            ]
          },
          "metadata": {
            "tags": []
          },
          "execution_count": 79
        },
        {
          "output_type": "execute_result",
          "data": {
            "text/plain": [
              "MLPClassifier(activation='relu', alpha=0.01, batch_size='auto', beta_1=0.9,\n",
              "       beta_2=0.999, early_stopping=False, epsilon=1e-08,\n",
              "       hidden_layer_sizes=(10, 10, 5), learning_rate='constant',\n",
              "       learning_rate_init=0.001, max_iter=100, momentum=0.9,\n",
              "       nesterovs_momentum=True, power_t=0.5, random_state=3, shuffle=True,\n",
              "       solver='lbfgs', tol=0.0001, validation_fraction=0.1, verbose=False,\n",
              "       warm_start=False)"
            ]
          },
          "metadata": {
            "tags": []
          },
          "execution_count": 79
        },
        {
          "output_type": "execute_result",
          "data": {
            "text/plain": [
              "MLPClassifier(activation='relu', alpha=0.01, batch_size='auto', beta_1=0.9,\n",
              "       beta_2=0.999, early_stopping=False, epsilon=1e-08,\n",
              "       hidden_layer_sizes=(10, 10, 5), learning_rate='constant',\n",
              "       learning_rate_init=0.001, max_iter=100, momentum=0.9,\n",
              "       nesterovs_momentum=True, power_t=0.5, random_state=3, shuffle=True,\n",
              "       solver='lbfgs', tol=0.0001, validation_fraction=0.1, verbose=False,\n",
              "       warm_start=False)"
            ]
          },
          "metadata": {
            "tags": []
          },
          "execution_count": 79
        },
        {
          "output_type": "execute_result",
          "data": {
            "text/plain": [
              "MLPClassifier(activation='relu', alpha=0.01, batch_size='auto', beta_1=0.9,\n",
              "       beta_2=0.999, early_stopping=False, epsilon=1e-08,\n",
              "       hidden_layer_sizes=(10, 10, 5), learning_rate='constant',\n",
              "       learning_rate_init=0.001, max_iter=100, momentum=0.9,\n",
              "       nesterovs_momentum=True, power_t=0.5, random_state=3, shuffle=True,\n",
              "       solver='lbfgs', tol=0.0001, validation_fraction=0.1, verbose=False,\n",
              "       warm_start=False)"
            ]
          },
          "metadata": {
            "tags": []
          },
          "execution_count": 79
        },
        {
          "output_type": "execute_result",
          "data": {
            "text/plain": [
              "MLPClassifier(activation='relu', alpha=0.01, batch_size='auto', beta_1=0.9,\n",
              "       beta_2=0.999, early_stopping=False, epsilon=1e-08,\n",
              "       hidden_layer_sizes=(10, 10, 5), learning_rate='constant',\n",
              "       learning_rate_init=0.001, max_iter=100, momentum=0.9,\n",
              "       nesterovs_momentum=True, power_t=0.5, random_state=3, shuffle=True,\n",
              "       solver='lbfgs', tol=0.0001, validation_fraction=0.1, verbose=False,\n",
              "       warm_start=False)"
            ]
          },
          "metadata": {
            "tags": []
          },
          "execution_count": 79
        },
        {
          "output_type": "execute_result",
          "data": {
            "text/plain": [
              "MLPClassifier(activation='relu', alpha=0.01, batch_size='auto', beta_1=0.9,\n",
              "       beta_2=0.999, early_stopping=False, epsilon=1e-08,\n",
              "       hidden_layer_sizes=(10, 10, 5), learning_rate='constant',\n",
              "       learning_rate_init=0.001, max_iter=100, momentum=0.9,\n",
              "       nesterovs_momentum=True, power_t=0.5, random_state=3, shuffle=True,\n",
              "       solver='lbfgs', tol=0.0001, validation_fraction=0.1, verbose=False,\n",
              "       warm_start=False)"
            ]
          },
          "metadata": {
            "tags": []
          },
          "execution_count": 79
        },
        {
          "output_type": "execute_result",
          "data": {
            "text/plain": [
              "MLPClassifier(activation='relu', alpha=0.01, batch_size='auto', beta_1=0.9,\n",
              "       beta_2=0.999, early_stopping=False, epsilon=1e-08,\n",
              "       hidden_layer_sizes=(10, 10, 5), learning_rate='constant',\n",
              "       learning_rate_init=0.001, max_iter=100, momentum=0.9,\n",
              "       nesterovs_momentum=True, power_t=0.5, random_state=3, shuffle=True,\n",
              "       solver='lbfgs', tol=0.0001, validation_fraction=0.1, verbose=False,\n",
              "       warm_start=False)"
            ]
          },
          "metadata": {
            "tags": []
          },
          "execution_count": 79
        },
        {
          "output_type": "execute_result",
          "data": {
            "text/plain": [
              "MLPClassifier(activation='relu', alpha=0.01, batch_size='auto', beta_1=0.9,\n",
              "       beta_2=0.999, early_stopping=False, epsilon=1e-08,\n",
              "       hidden_layer_sizes=(10, 10, 5), learning_rate='constant',\n",
              "       learning_rate_init=0.001, max_iter=100, momentum=0.9,\n",
              "       nesterovs_momentum=True, power_t=0.5, random_state=3, shuffle=True,\n",
              "       solver='lbfgs', tol=0.0001, validation_fraction=0.1, verbose=False,\n",
              "       warm_start=False)"
            ]
          },
          "metadata": {
            "tags": []
          },
          "execution_count": 79
        }
      ]
    },
    {
      "metadata": {
        "id": "BJLjM_3HGY_g",
        "colab_type": "code",
        "colab": {},
        "outputId": "f1f1f23a-36f1-42d5-a7ea-032200518d48"
      },
      "cell_type": "code",
      "source": [
        "print(\"Average Mean of Accuracies of Neural Network is:  %g\" % round(mean_acc_nu,3),\"With %g Iterations\" % N)\n",
        "\n",
        "print(\"Average Mean of Precision of Neural Network is:  %g\" % round(mean_prec_nu,3),\"With %g Iterations\" % N)\n",
        "\n",
        "print(\"Average Mean of Recall of Neural Network is:  %g\" % round(mean_rec_nu,3),\"With %g Iterations\" % N)\n",
        "\n",
        "print(\"Average Mean of Training Time of Neural Network is:  %g\" % round(avg_test_nu,3),\"With %g Iterations\" % N)\n",
        "print(\"Average Mean of Test Time of Neural Network is:  %g\" % round(avg_train_nu,3),\"With %g Iterations\" % N)"
      ],
      "execution_count": 0,
      "outputs": [
        {
          "output_type": "stream",
          "text": [
            "Average Mean of Accuracies of Neural Network is:  0.887 With 20 Iterations\n",
            "Average Mean of Precision of Neural Network is:  0.897 With 20 Iterations\n",
            "Average Mean of Recall of Neural Network is:  0.883 With 20 Iterations\n",
            "Average Mean of Training Time of Neural Network is:  0.002 With 20 Iterations\n",
            "Average Mean of Test Time of Neural Network is:  0.287 With 20 Iterations\n"
          ],
          "name": "stdout"
        }
      ]
    },
    {
      "metadata": {
        "id": "XGCkfueNGY_k",
        "colab_type": "text"
      },
      "cell_type": "markdown",
      "source": [
        "### Random Forest (Important Features) Classifier 5 (Run 20 times)"
      ]
    },
    {
      "metadata": {
        "id": "JuXJ30ZRGY_l",
        "colab_type": "code",
        "colab": {},
        "outputId": "e415777b-57a6-4256-cd9a-96ed72110bec"
      },
      "cell_type": "code",
      "source": [
        "#rffmber of Runs set to N\n",
        "N=20\n",
        "training_time_rff=[]\n",
        "test_time_rff=[]\n",
        "accuracy_rff_recur=[]\n",
        "precision_rff_recur=[]\n",
        "recall_rff_recur=[]\n",
        "\n",
        "#Training Data\n",
        "rff_recur = RandomForestClassifier(n_estimators = 1000,criterion = 'gini', max_depth = 15, \n",
        "                                     max_features= 'auto',bootstrap=True,random_state=45)\n",
        "    \n",
        "# Split the data into training and testing sets\n",
        "\n",
        "for i in range(0,N):\n",
        "    # Split the data into training and testing sets\n",
        "    train_features_rff_recur, test_features_rff_recur, train_labels_rff_recur, test_labels_rff_recur = train_test_split(features, \n",
        "                                                                            labels, test_size = 0.3)\n",
        "    \n",
        "    train_important_rff = train_features_rff_recur[:, important_indices]\n",
        "    test_important_rff = test_features_rff_recur[:, important_indices]\n",
        "    \n",
        "    \n",
        "    \n",
        "    # Train the model on training data\n",
        "    rff_recur_start = time.time()\n",
        "    #training\n",
        "    rff_recur.fit(train_features_rff_recur, train_labels_rff_recur)\n",
        "    \n",
        "    rff_recur_end = time.time()\n",
        "    training_time_rff.append(round(rff_recur_end - rff_recur_start, 3))\n",
        "    \n",
        " \n",
        "    #Testing Data\n",
        "    # Use the forest's predict method on the test data\n",
        "    rff_test_start = time.time()\n",
        "    \n",
        "    #prediction\n",
        "    rff_recur_prediction=rff_recur.predict(test_features_rff_recur)\n",
        "    \n",
        "    rff_test_end = time.time()\n",
        "    test_time_rff.append(round(rff_test_end - rff_test_start, 3))\n",
        "    \n",
        "    #Storing Accuracies\n",
        "    # Model Accuracy: how often is the classifier correct?\n",
        "    accuracy_rff_recur.append(round(metrics.accuracy_score(test_labels_rff_recur, rff_recur_prediction),4))\n",
        "    print(round(metrics.accuracy_score(test_labels_rff_recur, rff_recur_prediction),4))\n",
        "    \n",
        "    # Model Precision: what percentage of positive tuples are labeled as such?\n",
        "    precision_rff_recur.append(round(metrics.precision_score(test_labels_rff_recur, rff_recur_prediction),3))\n",
        "\n",
        "    # Model Recall: what percentage of positive tuples are labelled as such?\n",
        "    recall_rff_recur.append(round(metrics.recall_score(test_labels_rff_recur, rff_recur_prediction),3))\n",
        "    \n",
        "mean_acc_rff=np.mean(accuracy_rff_recur)\n",
        "mean_prec_rff=np.mean(precision_rff_recur)\n",
        "mean_rec_rff=np.mean(recall_rff_recur)\n",
        "\n",
        "avg_test_rff=np.mean(test_time_rff)\n",
        "avg_train_rff=np.mean(training_time_rff)\n"
      ],
      "execution_count": 0,
      "outputs": [
        {
          "output_type": "execute_result",
          "data": {
            "text/plain": [
              "RandomForestClassifier(bootstrap=True, class_weight=None, criterion='gini',\n",
              "            max_depth=15, max_features='auto', max_leaf_nodes=None,\n",
              "            min_impurity_decrease=0.0, min_impurity_split=None,\n",
              "            min_samples_leaf=1, min_samples_split=2,\n",
              "            min_weight_fraction_leaf=0.0, n_estimators=1000, n_jobs=1,\n",
              "            oob_score=False, random_state=45, verbose=0, warm_start=False)"
            ]
          },
          "metadata": {
            "tags": []
          },
          "execution_count": 84
        },
        {
          "output_type": "stream",
          "text": [
            "0.9712\n"
          ],
          "name": "stdout"
        },
        {
          "output_type": "execute_result",
          "data": {
            "text/plain": [
              "RandomForestClassifier(bootstrap=True, class_weight=None, criterion='gini',\n",
              "            max_depth=15, max_features='auto', max_leaf_nodes=None,\n",
              "            min_impurity_decrease=0.0, min_impurity_split=None,\n",
              "            min_samples_leaf=1, min_samples_split=2,\n",
              "            min_weight_fraction_leaf=0.0, n_estimators=1000, n_jobs=1,\n",
              "            oob_score=False, random_state=45, verbose=0, warm_start=False)"
            ]
          },
          "metadata": {
            "tags": []
          },
          "execution_count": 84
        },
        {
          "output_type": "stream",
          "text": [
            "0.9712\n"
          ],
          "name": "stdout"
        },
        {
          "output_type": "execute_result",
          "data": {
            "text/plain": [
              "RandomForestClassifier(bootstrap=True, class_weight=None, criterion='gini',\n",
              "            max_depth=15, max_features='auto', max_leaf_nodes=None,\n",
              "            min_impurity_decrease=0.0, min_impurity_split=None,\n",
              "            min_samples_leaf=1, min_samples_split=2,\n",
              "            min_weight_fraction_leaf=0.0, n_estimators=1000, n_jobs=1,\n",
              "            oob_score=False, random_state=45, verbose=0, warm_start=False)"
            ]
          },
          "metadata": {
            "tags": []
          },
          "execution_count": 84
        },
        {
          "output_type": "stream",
          "text": [
            "0.9652\n"
          ],
          "name": "stdout"
        },
        {
          "output_type": "execute_result",
          "data": {
            "text/plain": [
              "RandomForestClassifier(bootstrap=True, class_weight=None, criterion='gini',\n",
              "            max_depth=15, max_features='auto', max_leaf_nodes=None,\n",
              "            min_impurity_decrease=0.0, min_impurity_split=None,\n",
              "            min_samples_leaf=1, min_samples_split=2,\n",
              "            min_weight_fraction_leaf=0.0, n_estimators=1000, n_jobs=1,\n",
              "            oob_score=False, random_state=45, verbose=0, warm_start=False)"
            ]
          },
          "metadata": {
            "tags": []
          },
          "execution_count": 84
        },
        {
          "output_type": "stream",
          "text": [
            "0.9758\n"
          ],
          "name": "stdout"
        },
        {
          "output_type": "execute_result",
          "data": {
            "text/plain": [
              "RandomForestClassifier(bootstrap=True, class_weight=None, criterion='gini',\n",
              "            max_depth=15, max_features='auto', max_leaf_nodes=None,\n",
              "            min_impurity_decrease=0.0, min_impurity_split=None,\n",
              "            min_samples_leaf=1, min_samples_split=2,\n",
              "            min_weight_fraction_leaf=0.0, n_estimators=1000, n_jobs=1,\n",
              "            oob_score=False, random_state=45, verbose=0, warm_start=False)"
            ]
          },
          "metadata": {
            "tags": []
          },
          "execution_count": 84
        },
        {
          "output_type": "stream",
          "text": [
            "0.9682\n"
          ],
          "name": "stdout"
        },
        {
          "output_type": "execute_result",
          "data": {
            "text/plain": [
              "RandomForestClassifier(bootstrap=True, class_weight=None, criterion='gini',\n",
              "            max_depth=15, max_features='auto', max_leaf_nodes=None,\n",
              "            min_impurity_decrease=0.0, min_impurity_split=None,\n",
              "            min_samples_leaf=1, min_samples_split=2,\n",
              "            min_weight_fraction_leaf=0.0, n_estimators=1000, n_jobs=1,\n",
              "            oob_score=False, random_state=45, verbose=0, warm_start=False)"
            ]
          },
          "metadata": {
            "tags": []
          },
          "execution_count": 84
        },
        {
          "output_type": "stream",
          "text": [
            "0.9697\n"
          ],
          "name": "stdout"
        },
        {
          "output_type": "execute_result",
          "data": {
            "text/plain": [
              "RandomForestClassifier(bootstrap=True, class_weight=None, criterion='gini',\n",
              "            max_depth=15, max_features='auto', max_leaf_nodes=None,\n",
              "            min_impurity_decrease=0.0, min_impurity_split=None,\n",
              "            min_samples_leaf=1, min_samples_split=2,\n",
              "            min_weight_fraction_leaf=0.0, n_estimators=1000, n_jobs=1,\n",
              "            oob_score=False, random_state=45, verbose=0, warm_start=False)"
            ]
          },
          "metadata": {
            "tags": []
          },
          "execution_count": 84
        },
        {
          "output_type": "stream",
          "text": [
            "0.9758\n"
          ],
          "name": "stdout"
        },
        {
          "output_type": "execute_result",
          "data": {
            "text/plain": [
              "RandomForestClassifier(bootstrap=True, class_weight=None, criterion='gini',\n",
              "            max_depth=15, max_features='auto', max_leaf_nodes=None,\n",
              "            min_impurity_decrease=0.0, min_impurity_split=None,\n",
              "            min_samples_leaf=1, min_samples_split=2,\n",
              "            min_weight_fraction_leaf=0.0, n_estimators=1000, n_jobs=1,\n",
              "            oob_score=False, random_state=45, verbose=0, warm_start=False)"
            ]
          },
          "metadata": {
            "tags": []
          },
          "execution_count": 84
        },
        {
          "output_type": "stream",
          "text": [
            "0.9697\n"
          ],
          "name": "stdout"
        },
        {
          "output_type": "execute_result",
          "data": {
            "text/plain": [
              "RandomForestClassifier(bootstrap=True, class_weight=None, criterion='gini',\n",
              "            max_depth=15, max_features='auto', max_leaf_nodes=None,\n",
              "            min_impurity_decrease=0.0, min_impurity_split=None,\n",
              "            min_samples_leaf=1, min_samples_split=2,\n",
              "            min_weight_fraction_leaf=0.0, n_estimators=1000, n_jobs=1,\n",
              "            oob_score=False, random_state=45, verbose=0, warm_start=False)"
            ]
          },
          "metadata": {
            "tags": []
          },
          "execution_count": 84
        },
        {
          "output_type": "stream",
          "text": [
            "0.9773\n"
          ],
          "name": "stdout"
        },
        {
          "output_type": "execute_result",
          "data": {
            "text/plain": [
              "RandomForestClassifier(bootstrap=True, class_weight=None, criterion='gini',\n",
              "            max_depth=15, max_features='auto', max_leaf_nodes=None,\n",
              "            min_impurity_decrease=0.0, min_impurity_split=None,\n",
              "            min_samples_leaf=1, min_samples_split=2,\n",
              "            min_weight_fraction_leaf=0.0, n_estimators=1000, n_jobs=1,\n",
              "            oob_score=False, random_state=45, verbose=0, warm_start=False)"
            ]
          },
          "metadata": {
            "tags": []
          },
          "execution_count": 84
        },
        {
          "output_type": "stream",
          "text": [
            "0.9727\n"
          ],
          "name": "stdout"
        },
        {
          "output_type": "execute_result",
          "data": {
            "text/plain": [
              "RandomForestClassifier(bootstrap=True, class_weight=None, criterion='gini',\n",
              "            max_depth=15, max_features='auto', max_leaf_nodes=None,\n",
              "            min_impurity_decrease=0.0, min_impurity_split=None,\n",
              "            min_samples_leaf=1, min_samples_split=2,\n",
              "            min_weight_fraction_leaf=0.0, n_estimators=1000, n_jobs=1,\n",
              "            oob_score=False, random_state=45, verbose=0, warm_start=False)"
            ]
          },
          "metadata": {
            "tags": []
          },
          "execution_count": 84
        },
        {
          "output_type": "stream",
          "text": [
            "0.9621\n"
          ],
          "name": "stdout"
        },
        {
          "output_type": "execute_result",
          "data": {
            "text/plain": [
              "RandomForestClassifier(bootstrap=True, class_weight=None, criterion='gini',\n",
              "            max_depth=15, max_features='auto', max_leaf_nodes=None,\n",
              "            min_impurity_decrease=0.0, min_impurity_split=None,\n",
              "            min_samples_leaf=1, min_samples_split=2,\n",
              "            min_weight_fraction_leaf=0.0, n_estimators=1000, n_jobs=1,\n",
              "            oob_score=False, random_state=45, verbose=0, warm_start=False)"
            ]
          },
          "metadata": {
            "tags": []
          },
          "execution_count": 84
        },
        {
          "output_type": "stream",
          "text": [
            "0.9773\n"
          ],
          "name": "stdout"
        },
        {
          "output_type": "execute_result",
          "data": {
            "text/plain": [
              "RandomForestClassifier(bootstrap=True, class_weight=None, criterion='gini',\n",
              "            max_depth=15, max_features='auto', max_leaf_nodes=None,\n",
              "            min_impurity_decrease=0.0, min_impurity_split=None,\n",
              "            min_samples_leaf=1, min_samples_split=2,\n",
              "            min_weight_fraction_leaf=0.0, n_estimators=1000, n_jobs=1,\n",
              "            oob_score=False, random_state=45, verbose=0, warm_start=False)"
            ]
          },
          "metadata": {
            "tags": []
          },
          "execution_count": 84
        },
        {
          "output_type": "stream",
          "text": [
            "0.9697\n"
          ],
          "name": "stdout"
        },
        {
          "output_type": "execute_result",
          "data": {
            "text/plain": [
              "RandomForestClassifier(bootstrap=True, class_weight=None, criterion='gini',\n",
              "            max_depth=15, max_features='auto', max_leaf_nodes=None,\n",
              "            min_impurity_decrease=0.0, min_impurity_split=None,\n",
              "            min_samples_leaf=1, min_samples_split=2,\n",
              "            min_weight_fraction_leaf=0.0, n_estimators=1000, n_jobs=1,\n",
              "            oob_score=False, random_state=45, verbose=0, warm_start=False)"
            ]
          },
          "metadata": {
            "tags": []
          },
          "execution_count": 84
        },
        {
          "output_type": "stream",
          "text": [
            "0.9758\n"
          ],
          "name": "stdout"
        },
        {
          "output_type": "execute_result",
          "data": {
            "text/plain": [
              "RandomForestClassifier(bootstrap=True, class_weight=None, criterion='gini',\n",
              "            max_depth=15, max_features='auto', max_leaf_nodes=None,\n",
              "            min_impurity_decrease=0.0, min_impurity_split=None,\n",
              "            min_samples_leaf=1, min_samples_split=2,\n",
              "            min_weight_fraction_leaf=0.0, n_estimators=1000, n_jobs=1,\n",
              "            oob_score=False, random_state=45, verbose=0, warm_start=False)"
            ]
          },
          "metadata": {
            "tags": []
          },
          "execution_count": 84
        },
        {
          "output_type": "stream",
          "text": [
            "0.9758\n"
          ],
          "name": "stdout"
        },
        {
          "output_type": "execute_result",
          "data": {
            "text/plain": [
              "RandomForestClassifier(bootstrap=True, class_weight=None, criterion='gini',\n",
              "            max_depth=15, max_features='auto', max_leaf_nodes=None,\n",
              "            min_impurity_decrease=0.0, min_impurity_split=None,\n",
              "            min_samples_leaf=1, min_samples_split=2,\n",
              "            min_weight_fraction_leaf=0.0, n_estimators=1000, n_jobs=1,\n",
              "            oob_score=False, random_state=45, verbose=0, warm_start=False)"
            ]
          },
          "metadata": {
            "tags": []
          },
          "execution_count": 84
        },
        {
          "output_type": "stream",
          "text": [
            "0.9652\n"
          ],
          "name": "stdout"
        },
        {
          "output_type": "execute_result",
          "data": {
            "text/plain": [
              "RandomForestClassifier(bootstrap=True, class_weight=None, criterion='gini',\n",
              "            max_depth=15, max_features='auto', max_leaf_nodes=None,\n",
              "            min_impurity_decrease=0.0, min_impurity_split=None,\n",
              "            min_samples_leaf=1, min_samples_split=2,\n",
              "            min_weight_fraction_leaf=0.0, n_estimators=1000, n_jobs=1,\n",
              "            oob_score=False, random_state=45, verbose=0, warm_start=False)"
            ]
          },
          "metadata": {
            "tags": []
          },
          "execution_count": 84
        },
        {
          "output_type": "stream",
          "text": [
            "0.9636\n"
          ],
          "name": "stdout"
        },
        {
          "output_type": "execute_result",
          "data": {
            "text/plain": [
              "RandomForestClassifier(bootstrap=True, class_weight=None, criterion='gini',\n",
              "            max_depth=15, max_features='auto', max_leaf_nodes=None,\n",
              "            min_impurity_decrease=0.0, min_impurity_split=None,\n",
              "            min_samples_leaf=1, min_samples_split=2,\n",
              "            min_weight_fraction_leaf=0.0, n_estimators=1000, n_jobs=1,\n",
              "            oob_score=False, random_state=45, verbose=0, warm_start=False)"
            ]
          },
          "metadata": {
            "tags": []
          },
          "execution_count": 84
        },
        {
          "output_type": "stream",
          "text": [
            "0.9712\n"
          ],
          "name": "stdout"
        },
        {
          "output_type": "execute_result",
          "data": {
            "text/plain": [
              "RandomForestClassifier(bootstrap=True, class_weight=None, criterion='gini',\n",
              "            max_depth=15, max_features='auto', max_leaf_nodes=None,\n",
              "            min_impurity_decrease=0.0, min_impurity_split=None,\n",
              "            min_samples_leaf=1, min_samples_split=2,\n",
              "            min_weight_fraction_leaf=0.0, n_estimators=1000, n_jobs=1,\n",
              "            oob_score=False, random_state=45, verbose=0, warm_start=False)"
            ]
          },
          "metadata": {
            "tags": []
          },
          "execution_count": 84
        },
        {
          "output_type": "stream",
          "text": [
            "0.9667\n"
          ],
          "name": "stdout"
        },
        {
          "output_type": "execute_result",
          "data": {
            "text/plain": [
              "RandomForestClassifier(bootstrap=True, class_weight=None, criterion='gini',\n",
              "            max_depth=15, max_features='auto', max_leaf_nodes=None,\n",
              "            min_impurity_decrease=0.0, min_impurity_split=None,\n",
              "            min_samples_leaf=1, min_samples_split=2,\n",
              "            min_weight_fraction_leaf=0.0, n_estimators=1000, n_jobs=1,\n",
              "            oob_score=False, random_state=45, verbose=0, warm_start=False)"
            ]
          },
          "metadata": {
            "tags": []
          },
          "execution_count": 84
        },
        {
          "output_type": "stream",
          "text": [
            "0.9727\n"
          ],
          "name": "stdout"
        }
      ]
    },
    {
      "metadata": {
        "id": "hSF4b8SeGY_p",
        "colab_type": "code",
        "colab": {},
        "outputId": "5d08559e-6006-4791-b388-1cabd34b1aef"
      },
      "cell_type": "code",
      "source": [
        "print(\"Average Mean of Accuracies of Random Forest (With Imp Feature) is:  %g\" % round(mean_acc_rff,4),\"With %g Iterations\" % N)\n",
        "\n",
        "print(\"Average Mean of Precision of Random Forest (With Imp Feature) is:  %g\" % round(mean_prec_rff,3),\"With %g Iterations\" % N)\n",
        "\n",
        "print(\"Average Mean of Recall of Random Forest (With Imp Feature) is:  %g\" % round(mean_rec_rff,3),\"With %g Iterations\" % N)\n",
        "\n",
        "print(\"Average Mean of Training Time of Random Forest (With Imp Feature) is:  %g\" % round(avg_test_rff,3),\"With %g Iterations\" % N)\n",
        "print(\"Average Mean of Test Time of Random Forest (With Imp Feature) is:  %g\" % round(avg_train_rff,3),\"With %g Iterations\" % N)"
      ],
      "execution_count": 0,
      "outputs": [
        {
          "output_type": "stream",
          "text": [
            "Average Mean of Accuracies of Random Forest (With Imp Feature) is:  0.9708 With 20 Iterations\n",
            "Average Mean of Precision of Random Forest (With Imp Feature) is:  0.985 With 20 Iterations\n",
            "Average Mean of Recall of Random Forest (With Imp Feature) is:  0.958 With 20 Iterations\n",
            "Average Mean of Training Time of Random Forest (With Imp Feature) is:  0.195 With 20 Iterations\n",
            "Average Mean of Test Time of Random Forest (With Imp Feature) is:  3.129 With 20 Iterations\n"
          ],
          "name": "stdout"
        }
      ]
    },
    {
      "metadata": {
        "id": "m4-pmF3_GY_v",
        "colab_type": "text"
      },
      "cell_type": "markdown",
      "source": [
        "### Neural Network (Variation) Classifier 6 (Run 20 times)"
      ]
    },
    {
      "metadata": {
        "id": "nXfvJZLhGY_x",
        "colab_type": "code",
        "colab": {}
      },
      "cell_type": "code",
      "source": [
        ""
      ],
      "execution_count": 0,
      "outputs": []
    }
  ]
}